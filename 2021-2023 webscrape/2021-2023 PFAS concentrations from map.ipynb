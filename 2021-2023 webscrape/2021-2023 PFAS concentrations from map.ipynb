{
 "cells": [
  {
   "cell_type": "markdown",
   "id": "a40b7afb",
   "metadata": {},
   "source": [
    "### Webscrape, analyze, and map PFAS and spatial data from DOD's PFAS website\n",
    "#### One table has the location data, the other has the PFAS sample data"
   ]
  },
  {
   "cell_type": "code",
   "execution_count": 1,
   "id": "2caf1389",
   "metadata": {},
   "outputs": [
    {
     "name": "stdout",
     "output_type": "stream",
     "text": [
      "Current working directory is: C:\\Users\\OITNYNWilsoS\\OneDrive - Department of Veterans Affairs\\python\\PACT Act - MET\\final version January 2024\n"
     ]
    }
   ],
   "source": [
    "import requests\n",
    "import os\n",
    "import json\n",
    "from requests import get\n",
    "import pickle\n",
    "import pandas as pd\n",
    "import numpy as np\n",
    "import re\n",
    "import matplotlib.pyplot as plt \n",
    "import seaborn as sns \n",
    "import plotly.express as px\n",
    "\n",
    "os.chdir(r'C:\\Users\\OITNYNWilsoS\\OneDrive - Department of Veterans Affairs\\python\\PACT Act - MET\\final version January 2024')\n",
    "cwd = os.getcwd()\n",
    "print(\"Current working directory is:\", cwd)"
   ]
  },
  {
   "cell_type": "code",
   "execution_count": null,
   "id": "66e0d3a5",
   "metadata": {},
   "outputs": [],
   "source": [
    "#making request using request package and viewing json\n",
    "#pulling in the metadata which as latitude and longitude for each military base, which is needed for future mapping\n",
    "meta_url = 'https://providers.acq.osd.mil/pfasapi/odata/installation?'\n",
    "metadata = requests.get(meta_url)\n",
    "metadata = metadata.json()"
   ]
  },
  {
   "cell_type": "code",
   "execution_count": null,
   "id": "51c972f4",
   "metadata": {},
   "outputs": [],
   "source": [
    "#converting from json to pandas dataframe\n",
    "metadata_df = pd.DataFrame.from_dict(metadata['value'])\n",
    "\n",
    "#there is at least one duplicate, Letterkenney, so removing duplicates\n",
    "metadata_df = metadata_df.sort_values('InstallationName', ascending=True).drop_duplicates('InstallationName')\n",
    "\n",
    "metadata_df.head()\n",
    "\n",
    "#optional storing metadata for later use\n",
    "#%store metadata_df"
   ]
  },
  {
   "cell_type": "code",
   "execution_count": null,
   "id": "af519201",
   "metadata": {},
   "outputs": [],
   "source": [
    "#pull in raw sample data\n",
    "#website: 'https://providers.acq.osd.mil/pfasapi/odata/installation?$select=Id,DodComponent,DodComponentId,InstallationName,\n",
    "#                  InstallationType,State&expand=FinalData'\n",
    "sample_url = 'https://providers.acq.osd.mil/pfasapi/odata/installation?$select=Id,DodComponent,DodComponentId,InstallationName,InstallationType,State&expand=FinalData'\n",
    "\n",
    "sample_data = requests.get(sample_url)\n",
    "sample_data_json = sample_data.json()\n",
    "sample_data_df = pd.DataFrame.from_records(sample_data_json['value'])\n",
    "sample_data_df.head()"
   ]
  },
  {
   "cell_type": "code",
   "execution_count": null,
   "id": "28463088",
   "metadata": {},
   "outputs": [],
   "source": [
    "#accessing sublist called \"Final Data\"\n",
    "sublist_final = sample_data_df.loc[:,['FinalData']]#.head()\n",
    "sublist_final.head()"
   ]
  },
  {
   "cell_type": "code",
   "execution_count": null,
   "id": "40a07f94",
   "metadata": {},
   "outputs": [],
   "source": [
    "for i in sublist_final.columns:\n",
    "    mod_final=sublist_final.explode(i)\n",
    "mod_final.head()"
   ]
  },
  {
   "cell_type": "code",
   "execution_count": null,
   "id": "ac828cad",
   "metadata": {},
   "outputs": [],
   "source": [
    "#convert final list to pandas dataframe\n",
    "flat_dct=pd.json_normalize(json.loads(mod_final.to_json(orient=\"records\")))\n",
    "\n",
    "#pd.set_option('display.max_rows', 5000)\n",
    "flat_dct.head()"
   ]
  },
  {
   "cell_type": "code",
   "execution_count": null,
   "id": "ef8e0681",
   "metadata": {},
   "outputs": [],
   "source": [
    "#drop rows that are empty and FinalData column which is empty\n",
    "final_data_nona = flat_dct[flat_dct['FinalData.InstallationName'].notna()]\n",
    "final_data_nona = final_data_nona.drop('FinalData', axis=1)\n",
    "final_data_nona.head()"
   ]
  },
  {
   "cell_type": "code",
   "execution_count": null,
   "id": "8fea9f87",
   "metadata": {},
   "outputs": [],
   "source": [
    "#removing excess punctuation\n",
    "all_sample_data_21_23 = final_data_nona.copy()\n",
    "all_sample_data_21_23.columns = all_sample_data_21_23.columns.str.replace('[a-zA-Z]+\\\\.','', regex=True)\n",
    "all_sample_data_21_23.head()"
   ]
  },
  {
   "cell_type": "code",
   "execution_count": null,
   "id": "91602a12",
   "metadata": {},
   "outputs": [],
   "source": [
    "pd.set_option('display.max_rows', 5)\n",
    "\n",
    "#all_sample_data_21_23['SampleDate'] = pd.to_datetime(all_sample_data_21_23.SampleDate, format='%Y-%m-%d %H:%M:%S')\n",
    "all_sample_data_21_23['SampleDate'] = pd.to_datetime(all_sample_data_21_23['SampleDate'], utc=True)\n",
    "all_sample_data_21_23['SampleDate'] = all_sample_data_21_23['SampleDate'].dt.strftime('%Y-%m-%d')\n",
    "all_sample_data_21_23 = all_sample_data_21_23.sort_values(['SampleDate'], ascending=True)\n",
    "\n",
    "#sort values\n",
    "all_sample_data_21_23 = all_sample_data_21_23.sort_values(['InstallationName'], ascending=True)\n",
    "\n",
    "#remove meaningless columns\n",
    "all_sample_data_21_23 = all_sample_data_21_23.drop('FinalResultDate', axis=1)\n",
    "all_sample_data_21_23 = all_sample_data_21_23.drop('Id', axis=1)\n",
    "all_sample_data_21_23 = all_sample_data_21_23.drop('LabReportId', axis=1)\n",
    "all_sample_data_21_23 = all_sample_data_21_23.drop('LaboratorySampleId', axis=1)\n",
    "all_sample_data_21_23['InstallationName'] = all_sample_data_21_23['InstallationName'].str.upper()\n",
    "all_sample_data_21_23.reset_index(drop=True, inplace=True)\n",
    "all_sample_data_21_23['LkupInstallationId'] = all_sample_data_21_23['LkupInstallationId'].astype(int)\n",
    "all_sample_data_21_23.head()"
   ]
  },
  {
   "cell_type": "code",
   "execution_count": null,
   "id": "20747441",
   "metadata": {},
   "outputs": [],
   "source": [
    "#list number of unique items in a column\n",
    "unique = all_sample_data_21_23['PreOrPostTreatment'].unique()\n",
    "unique"
   ]
  },
  {
   "cell_type": "code",
   "execution_count": null,
   "id": "e43f8df6",
   "metadata": {},
   "outputs": [],
   "source": [
    "#rename columns to standardize column names\n",
    "all_sample_data_21_23 = all_sample_data_21_23.rename(columns={'Component': 'branch',\n",
    "                                                              'InstallationName': 'name',\n",
    "                                                              'InstallationType':'type',\n",
    "                                                              'SampleDate':'date',\n",
    "                                                              'AnalysisMethod':'analysis_method',\n",
    "                                                              'CasNumber':'cas_number',\n",
    "                                                              'AnalyteAbbrev':'analyte',\n",
    "                                                              'FinalResult':'results',\n",
    "                                                              'LimitOfDetection':'limit_of_detection',\n",
    "                                                              'FinalUnits':'units',\n",
    "                                                              'FinalQualification':'qualifier',\n",
    "                                                              'LkupInstallationId':'lkup_installation_id',\n",
    "                                                              'TreatmentSystem':'treatment_system',\n",
    "                                                              'PreOrPostTreatment':'pre_or_post_treatment'})\n",
    "\n",
    "\n",
    "all_sample_data_21_23['name'] = all_sample_data_21_23['name'].apply(lambda x: x.replace('(','').replace(')','')) \n",
    "\n",
    "#change empty cells to numpy nan format. Since there were no \"nan\" values in the dataset, \n",
    "#the blanks are assumed to be \"nan\" /non-detect\n",
    "all_sample_data_21_23[\"results\"]  = all_sample_data_21_23[\"results\"].replace('', np.nan)\n",
    "\n",
    "all_sample_data_21_23.tail()"
   ]
  },
  {
   "cell_type": "code",
   "execution_count": null,
   "id": "79fa4398",
   "metadata": {},
   "outputs": [],
   "source": [
    "#determine number of rows, columns\n",
    "all_sample_data_21_23.shape"
   ]
  },
  {
   "cell_type": "code",
   "execution_count": null,
   "id": "692368e1",
   "metadata": {},
   "outputs": [],
   "source": [
    "#count nubmer of unique military bases \n",
    "all_sample_data_21_23['name'].nunique()"
   ]
  },
  {
   "cell_type": "code",
   "execution_count": null,
   "id": "268dbf34",
   "metadata": {},
   "outputs": [],
   "source": [
    "all_sample_data_21_23['pre_or_post_treatment'].unique()"
   ]
  },
  {
   "cell_type": "code",
   "execution_count": null,
   "id": "33688013",
   "metadata": {},
   "outputs": [],
   "source": [
    "all_sample_data_21_23.to_csv(\n",
    "r\"C:\\Users\\OITNYNWilsoS\\OneDrive - Department of Veterans Affairs\\PACT Act\\MET\\deliverables\\Jan_2024\\all_sample_data_21_23.csv\", index=False, na_rep=np.nan)                              \n",
    "                            "
   ]
  },
  {
   "cell_type": "markdown",
   "id": "d8db5a29",
   "metadata": {},
   "source": [
    "### Clean and filter data"
   ]
  },
  {
   "cell_type": "code",
   "execution_count": null,
   "id": "8e1cf8fb",
   "metadata": {},
   "outputs": [],
   "source": [
    "#determine number of individual bases\n",
    "pd.set_option('display.max_rows', 80)\n",
    "bases = final_data_nona.groupby('FinalData.InstallationName', as_index=False).count()\n",
    "\n",
    "bases.tail()"
   ]
  },
  {
   "cell_type": "code",
   "execution_count": null,
   "id": "adeb43c3",
   "metadata": {},
   "outputs": [],
   "source": [
    "#pull out only PFAS chemicals that EPA has released updated standards for\n",
    "#https://www.epa.gov/sdwa/and-polyfluoroalkyl-substances-pfas\n",
    "EPA_chemicals = ['PFOA','PFOS','PFNA','PFHxS','PFBS','HFPO-DA'] #HFPO-DA is Gen X\n",
    "final_data_EPA = all_sample_data_21_23[all_sample_data_21_23['analyte'].isin(EPA_chemicals)]\n",
    "\n",
    "final_data_EPA.reset_index(drop=True, inplace=True)\n",
    "final_data_EPA.head()"
   ]
  },
  {
   "cell_type": "code",
   "execution_count": null,
   "id": "8893565f",
   "metadata": {},
   "outputs": [],
   "source": [
    "final_data_EPA.shape"
   ]
  },
  {
   "cell_type": "code",
   "execution_count": null,
   "id": "aeb93bee",
   "metadata": {},
   "outputs": [],
   "source": [
    "final_data_EPA['name'].nunique()"
   ]
  },
  {
   "cell_type": "code",
   "execution_count": null,
   "id": "724d62a0",
   "metadata": {},
   "outputs": [],
   "source": [
    "final_data_EPA.to_csv(\n",
    "r\"C:\\Users\\OITNYNWilsoS\\OneDrive - Department of Veterans Affairs\\PACT Act\\MET\\deliverables\\Jan_2024\\EPA_PFAS_data_21_23.csv\", index=False, na_rep=np.nan)\n"
   ]
  },
  {
   "cell_type": "code",
   "execution_count": null,
   "id": "4d4037a7",
   "metadata": {},
   "outputs": [],
   "source": [
    "#select only PFOA and PFOS because EPA has proposed standards for these that aren't based on hazard index\n",
    "PFOS_PFOA = ['PFOA', 'PFOS']\n",
    "final_PFOS_PFOA = final_data_EPA[final_data_EPA['analyte'].isin(PFOS_PFOA)]\n",
    "final_PFOS_PFOA.reset_index(drop=True, inplace=True)\n",
    "#final_PFOS_PFOA = final_PFOS_PFOA.sort_values(['SampleDate'], ascending=True)\n",
    "final_PFOS_PFOA.head()"
   ]
  },
  {
   "cell_type": "code",
   "execution_count": null,
   "id": "8ea9859e",
   "metadata": {},
   "outputs": [],
   "source": [
    "#calculate number of unique facilities in 2021-2023 dataset\n",
    "final_PFOS_PFOA[\"name\"].nunique()"
   ]
  },
  {
   "cell_type": "code",
   "execution_count": null,
   "id": "939049d5",
   "metadata": {},
   "outputs": [],
   "source": [
    "#optional export to csv. Other files below contain same information\n",
    "#final_PFOS_PFOA.to_csv(r\"C:\\Users\\OITNYNWilsoS\\OneDrive - Department of Veterans Affairs\\PACT Act\\MET\\deliverables\\Jan_2024\\PFOA_PFOS_21_23.csv\", index=False)"
   ]
  },
  {
   "cell_type": "markdown",
   "id": "03dad363",
   "metadata": {},
   "source": [
    "### Compare samples to EPA proposed standard of 4 ppt"
   ]
  },
  {
   "cell_type": "code",
   "execution_count": null,
   "id": "5edb1b01",
   "metadata": {},
   "outputs": [],
   "source": [
    "#add column with EPA proposed MCL of 4 ppt (ng/L) (same for both PFOA and PFOS) for comparison\n",
    "#From EPA: Maximum Contaminant Level (MCL): The highest level of a contaminant that is allowed in drinking water\n",
    "final_PFOS_PFOA.insert(8, 'screening_level', 4)\n",
    "pd.set_option('display.max_rows', 500)\n",
    "final_PFOS_PFOA.head()"
   ]
  },
  {
   "cell_type": "code",
   "execution_count": null,
   "id": "fb884fb7",
   "metadata": {},
   "outputs": [],
   "source": [
    "#compare sampling results with EPA's proposed MCL of 4 ppt\n",
    "final_PFOS_PFOA_4 = final_PFOS_PFOA.copy()\n",
    "final_PFOS_PFOA_4[\"results\"] = pd.to_numeric(final_PFOS_PFOA_4[\"results\"])\n",
    "final_PFOS_PFOA_4.insert(9, \"exceedance\", final_PFOS_PFOA_4[\"results\"] > final_PFOS_PFOA_4[\"screening_level\"])\n",
    "pd.set_option('display.max_rows', 500)\n",
    "final_PFOS_PFOA_4.head()"
   ]
  },
  {
   "cell_type": "code",
   "execution_count": null,
   "id": "405f8ac3",
   "metadata": {},
   "outputs": [],
   "source": [
    "final_PFOS_PFOA_4.shape"
   ]
  },
  {
   "cell_type": "code",
   "execution_count": null,
   "id": "ff048e93",
   "metadata": {},
   "outputs": [],
   "source": [
    "final_PFOS_PFOA['name'].nunique()"
   ]
  },
  {
   "cell_type": "code",
   "execution_count": null,
   "id": "8e31699b",
   "metadata": {},
   "outputs": [],
   "source": [
    "final_PFOS_PFOA_4.to_csv(\n",
    "r\"C:\\Users\\OITNYNWilsoS\\OneDrive - Department of Veterans Affairs\\PACT Act\\MET\\deliverables\\Jan_2024\\PFOA_PFOS_4MCL_21_23.csv\", index=False, na_rep=np.nan)"
   ]
  },
  {
   "cell_type": "code",
   "execution_count": null,
   "id": "b891caf9",
   "metadata": {
    "scrolled": true
   },
   "outputs": [],
   "source": [
    "#select bases that exceed the standard\n",
    "exceed = final_PFOS_PFOA_4.loc[final_PFOS_PFOA_4['exceedance'] == True]\n",
    "exceed.reset_index(drop=True, inplace=True)\n",
    "pd.set_option('display.max_rows', 500)\n",
    "exceed.head()"
   ]
  },
  {
   "cell_type": "code",
   "execution_count": null,
   "id": "e85b3757",
   "metadata": {
    "scrolled": true
   },
   "outputs": [],
   "source": [
    "#determine number of bases with exceedances\n",
    "bases_exceed = exceed.groupby('name', as_index=False).count()\n",
    "bases_exceed.head()"
   ]
  },
  {
   "cell_type": "code",
   "execution_count": null,
   "id": "bb54c44f",
   "metadata": {},
   "outputs": [],
   "source": [
    "#determine nubmer of bases with exceedances and no treatment system\n",
    "exceed_no_treat = final_PFOS_PFOA.loc[final_PFOS_PFOA['treatment_system'] == 'No']\n",
    "exceed_no_treat = exceed_no_treat.groupby('name', as_index=False).count()\n",
    "exceed_no_treat.head()"
   ]
  },
  {
   "cell_type": "code",
   "execution_count": null,
   "id": "73dac785",
   "metadata": {},
   "outputs": [],
   "source": [
    "final_PFOS_PFOA.head()"
   ]
  },
  {
   "cell_type": "markdown",
   "id": "ec9e79b4",
   "metadata": {},
   "source": [
    "### Only keep the highest concentration for each military base for ease of visualization on a map"
   ]
  },
  {
   "cell_type": "code",
   "execution_count": null,
   "id": "4a2d1a6d",
   "metadata": {},
   "outputs": [],
   "source": [
    "#sorting by military base name and then PFAS concentration and then only keeping the highest concentration of PFAS for\n",
    "#each military base\n",
    "\n",
    "max_final_PFOS_PFOA = final_PFOS_PFOA_4.sort_values(['name','results'],\n",
    "                                                  ascending=False).drop_duplicates('name')\n",
    "max_final_PFOS_PFOA = max_final_PFOS_PFOA.sort_values('name', ascending=True)\n",
    "\n",
    "max_final_PFOS_PFOA.reset_index(drop=True, inplace=True)\n",
    "max_final_PFOS_PFOA.head()"
   ]
  },
  {
   "cell_type": "code",
   "execution_count": null,
   "id": "ff6efb87",
   "metadata": {},
   "outputs": [],
   "source": [
    "#calculate summary statistics for the 2021-2023 dataset\n",
    "max_final_PFOS_PFOA[[\"results\"]].describe()"
   ]
  },
  {
   "cell_type": "code",
   "execution_count": null,
   "id": "7742b6ca",
   "metadata": {},
   "outputs": [],
   "source": [
    "#calculate median of PFAS concentrations\n",
    "max_final_PFOS_PFOA[[\"results\"]].median()"
   ]
  },
  {
   "cell_type": "code",
   "execution_count": null,
   "id": "47b25999",
   "metadata": {},
   "outputs": [],
   "source": [
    "#create histogram of frequency distribution of concentrations\n",
    "fig, ax = plt.subplots(figsize=(20, 10))\n",
    "plt.axvline(x=4, color = 'red') \n",
    "plt.axvline(x=70, color = 'red') \n",
    "plot_max_final_PFOS_PFOA = plt.hist(max_final_PFOS_PFOA['results'], bins=50, linewidth=0.5, edgecolor=\"white\")\n",
    "plt.suptitle('Frequency distribution of highest concentration of PFAS reported on military installations, 2021-2023',\n",
    "             fontsize=20)\n",
    "plt.xlabel('results (ppt)', fontsize=20)\n",
    "plt.ylabel('frequency', fontsize=20)\n",
    "plt.tick_params(axis='both', which='major', labelsize=20, width=2, length=4)\n",
    "plt.locator_params(axis='y', nbins=5)\n",
    "\n",
    "plot_max_final_PFOS_PFOA"
   ]
  },
  {
   "cell_type": "markdown",
   "id": "c0360af5",
   "metadata": {},
   "source": [
    "### Add location data to the sample data "
   ]
  },
  {
   "cell_type": "code",
   "execution_count": null,
   "id": "89519e33",
   "metadata": {},
   "outputs": [],
   "source": [
    "#make name of facilities in spatial dataframe all uppercase\n",
    "metadata_df['InstallationName'] = metadata_df['InstallationName'].str.upper()\n",
    "#drop excess columns\n",
    "metadata_df = metadata_df.drop(['Id','DodComponentId'], axis=1)\n",
    "metadata_df.reset_index(drop=True, inplace=True)\n",
    "\n",
    "#rename column names\n",
    "metadata_df = metadata_df.rename(columns={'DodComponent': 'branch',\n",
    "                                          'State':'state',\n",
    "                                          'InstallationName':'name',\n",
    "                                          'InstallationType':'type',\n",
    "                                          'Latitude': 'latitude',\n",
    "                                          'Longitude': 'longitude'})\n",
    "\n",
    "#remove paranthesis from names\n",
    "metadata_df['name'] = metadata_df['name'].apply(lambda x: x.replace('(','').replace(')','')) \n",
    "\n",
    "metadata_df.head()"
   ]
  },
  {
   "cell_type": "code",
   "execution_count": null,
   "id": "9433e3c9",
   "metadata": {},
   "outputs": [],
   "source": [
    "metadata_df.shape"
   ]
  },
  {
   "cell_type": "code",
   "execution_count": null,
   "id": "74f5e3de",
   "metadata": {},
   "outputs": [],
   "source": [
    "#determine number of unique facilities in the geospatial dataset\n",
    "metadata_df[\"name\"].nunique()"
   ]
  },
  {
   "cell_type": "code",
   "execution_count": null,
   "id": "757e1949",
   "metadata": {},
   "outputs": [],
   "source": [
    "metadata_df[\"longitude\"].nunique()"
   ]
  },
  {
   "cell_type": "code",
   "execution_count": null,
   "id": "8727afb2",
   "metadata": {},
   "outputs": [],
   "source": [
    "metadata_df.to_csv(\n",
    "r\"C:\\Users\\OITNYNWilsoS\\OneDrive - Department of Veterans Affairs\\PACT Act\\MET\\deliverables\\Jan_2024\\military_bases_spatial.csv\", index=False, na_rep=np.nan)"
   ]
  },
  {
   "cell_type": "code",
   "execution_count": null,
   "id": "4159ffaf",
   "metadata": {},
   "outputs": [],
   "source": [
    "#merge sample data and metadata df to attach latitude and longitude data from the metadata to the sample data\n",
    "max_final_PFOS_PFOA_geo = max_final_PFOS_PFOA.merge(\n",
    "    metadata_df[['name', 'state','latitude','longitude']], on='name', how='left', indicator=True)\n",
    "#remove extra names from column names\n",
    "max_final_PFOS_PFOA_geo.columns = max_final_PFOS_PFOA_geo.columns.str.replace('[a-zA-Z]+\\\\.','', regex=True)\n",
    "#drop columns that are not needed\n",
    "max_final_PFOS_PFOA_geo = max_final_PFOS_PFOA_geo.drop(['_merge',\n",
    "                                                       # 'Id',\n",
    "                                                        'type'], axis=1)\n",
    "\n",
    "#remove time stamps and format dates\n",
    "#max_final_PFOS_PFOA_geo['date'] = pd.to_datetime(max_final_PFOS_PFOA_geo.date, format='%Y-%m-%d %H:%M:%S')\n",
    "max_final_PFOS_PFOA_geo['date'] = pd.to_datetime(max_final_PFOS_PFOA_geo['date'], utc=True)\n",
    "max_final_PFOS_PFOA_geo['date'] = max_final_PFOS_PFOA_geo['date'].dt.strftime('%Y-%m-%d')\n",
    "# make military base name all uppercase to make name formats consistent\n",
    "max_final_PFOS_PFOA_geo['name'] = max_final_PFOS_PFOA_geo['name'].str.upper()\n",
    "#change location of the state column\n",
    "max_final_PFOS_PFOA_geo.insert(0, 'state', max_final_PFOS_PFOA_geo.pop('state'))\n",
    "\n",
    "#remove trailing zeros from result column\n",
    "max_final_PFOS_PFOA_geo[\"results\"] = max_final_PFOS_PFOA_geo[\"results\"].apply(\n",
    "    lambda x:'{:.{}f}'.format(x, (len(str(x)) - 1 - int(str(x).find('.')))) if isinstance(x, float) else x)\n",
    "\n",
    "#add state for Manchester Fuel Depot\n",
    "pd.options.mode.chained_assignment = None\n",
    "max_final_PFOS_PFOA_geo['state'].loc[max_final_PFOS_PFOA_geo['name'] == 'MANCHESTER WA FUELDPTPSND'] = 'Washington'\n",
    "\n",
    "max_final_PFOS_PFOA_geo.head()"
   ]
  },
  {
   "cell_type": "code",
   "execution_count": null,
   "id": "cc8d921d",
   "metadata": {},
   "outputs": [],
   "source": [
    "#list the unique military installation names\n",
    "max_final_PFOS_PFOA_geo['name'].unique"
   ]
  },
  {
   "cell_type": "code",
   "execution_count": null,
   "id": "4f42c097",
   "metadata": {},
   "outputs": [],
   "source": [
    "#determine number of exceedances above 4 ppt\n",
    "max_final_PFOS_PFOA_geo.exceedance.value_counts()"
   ]
  },
  {
   "cell_type": "code",
   "execution_count": null,
   "id": "e4512908",
   "metadata": {},
   "outputs": [],
   "source": [
    "max_final_PFOS_PFOA_geo.shape"
   ]
  },
  {
   "cell_type": "code",
   "execution_count": null,
   "id": "b36aeedf",
   "metadata": {},
   "outputs": [],
   "source": [
    "max_final_PFOS_PFOA_geo['name'].nunique()"
   ]
  },
  {
   "cell_type": "code",
   "execution_count": null,
   "id": "cfee8735",
   "metadata": {},
   "outputs": [],
   "source": [
    "max_final_PFOS_PFOA_geo.to_csv(\n",
    "r\"C:\\Users\\OITNYNWilsoS\\OneDrive - Department of Veterans Affairs\\PACT Act\\MET\\deliverables\\Jan_2024\\geo_max_PFOA_PFOS_4MCL_21_23.csv\", index=False, na_rep=np.nan)"
   ]
  },
  {
   "cell_type": "code",
   "execution_count": null,
   "id": "0e85140c",
   "metadata": {},
   "outputs": [],
   "source": [
    "#filter data to only display exceedances to prepare for mapping\n",
    "exceed_only_spatial = max_final_PFOS_PFOA_geo.loc[max_final_PFOS_PFOA_geo['exceedance'] == True]\n",
    "exceed_only_spatial.head() #.dtypes"
   ]
  },
  {
   "cell_type": "code",
   "execution_count": null,
   "id": "3ad696c0",
   "metadata": {},
   "outputs": [],
   "source": [
    "#convert results column to numeric to allow for mapping\n",
    "exceed_only_spatial_map = exceed_only_spatial.copy()\n",
    "exceed_only_spatial_map['results'] = pd.to_numeric(exceed_only_spatial[\"results\"])"
   ]
  },
  {
   "cell_type": "code",
   "execution_count": null,
   "id": "2db3ebde",
   "metadata": {},
   "outputs": [],
   "source": [
    "#create map of the data\n",
    "fig = px.scatter_geo(exceed_only_spatial_map,\n",
    "    lon='longitude',\n",
    "    lat='latitude',\n",
    "    size='results',\n",
    "    color_discrete_sequence=[\"red\"],\n",
    "    hover_name=\"name\",\n",
    "    title = 'Military installations with PFAS exceedances in drinking water of EPA proposed standard of 4 ppt, 2021-2023',\n",
    ")\n",
    "\n",
    "\n",
    "fig.update_layout(\n",
    "    geo_scope='usa',\n",
    "  #  margin=dict(l=50, r=50, t=20, b=20)\n",
    "    \n",
    ")\n",
    "\n",
    "fig"
   ]
  },
  {
   "cell_type": "markdown",
   "id": "70e5c4a7",
   "metadata": {},
   "source": [
    "### Compare sample results to 70 ppt rather than 4 ppt\n",
    "#### EPA has older guidance of 70 ppt"
   ]
  },
  {
   "cell_type": "code",
   "execution_count": null,
   "id": "f5c64f87",
   "metadata": {},
   "outputs": [],
   "source": [
    "#applying the 70 ppt standard to PFOS and PFOA data instead of 4 ppt\n",
    "final_PFOS_PFOA_70 = final_PFOS_PFOA.copy()\n",
    "final_PFOS_PFOA_70['screening_level'] = 70\n",
    "final_PFOS_PFOA_70[\"results\"]  = final_PFOS_PFOA_70[\"results\"] .replace('nan', np.nan)\n",
    "final_PFOS_PFOA_70[\"results\"] = pd.to_numeric(final_PFOS_PFOA_70[\"results\"])\n",
    "final_PFOS_PFOA_70[\"exceedance\"] = np.where(final_PFOS_PFOA_70['results']>= final_PFOS_PFOA_70['screening_level'], \n",
    "                                            True, False)\n",
    "#remove trailing zeros\n",
    "final_PFOS_PFOA_70[\"results\"] = final_PFOS_PFOA_70[\"results\"].apply(\n",
    "   lambda x:'{:.{}f}'.format(x, (len(str(x)) - 1 - int(str(x).find('.')))) if isinstance(x, float) else x)\n",
    "\n",
    "final_PFOS_PFOA_70.reset_index(drop=True, inplace=True)\n",
    "\n",
    "final_PFOS_PFOA_70.head()"
   ]
  },
  {
   "cell_type": "code",
   "execution_count": null,
   "id": "f9562b23",
   "metadata": {},
   "outputs": [],
   "source": [
    "final_PFOS_PFOA_70.shape"
   ]
  },
  {
   "cell_type": "code",
   "execution_count": null,
   "id": "493c7ca6",
   "metadata": {},
   "outputs": [],
   "source": [
    "final_PFOS_PFOA_70['name'].nunique()"
   ]
  },
  {
   "cell_type": "code",
   "execution_count": null,
   "id": "6c5baab8",
   "metadata": {},
   "outputs": [],
   "source": [
    "final_PFOS_PFOA_70.to_csv(\n",
    "r\"C:\\Users\\OITNYNWilsoS\\OneDrive - Department of Veterans Affairs\\PACT Act\\MET\\deliverables\\Jan_2024\\PFOA_PFOS_70MCL_21_23.csv\", index=False, na_rep=np.nan)"
   ]
  },
  {
   "cell_type": "code",
   "execution_count": null,
   "id": "4350a9d3",
   "metadata": {},
   "outputs": [],
   "source": [
    "max_final_PFOS_PFOA_70_geo = max_final_PFOS_PFOA_geo.copy(deep=True)\n",
    "max_final_PFOS_PFOA_70_geo['screening_level'] = 70\n",
    "max_final_PFOS_PFOA_70_geo[\"results\"]  = max_final_PFOS_PFOA_70_geo[\"results\"] .replace('nan', np.nan)\n",
    "max_final_PFOS_PFOA_70_geo[\"results\"] = pd.to_numeric(max_final_PFOS_PFOA_70_geo[\"results\"])\n",
    "max_final_PFOS_PFOA_70_geo[\"exceedance\"] = np.where(max_final_PFOS_PFOA_70_geo['results']>= \n",
    "                                                    max_final_PFOS_PFOA_70_geo['screening_level'], True, False)\n",
    "#remove trailing zeros\n",
    "final_PFOS_PFOA_70[\"results\"] = final_PFOS_PFOA_70[\"results\"].apply(\n",
    "   lambda x:'{:.{}f}'.format(x, (len(str(x)) - 1 - int(str(x).find('.')))) if isinstance(x, float) else x)\n",
    "\n",
    "max_final_PFOS_PFOA_70_geo.reset_index(drop=True, inplace=True)\n",
    "\n",
    "pd.set_option('display.max_rows', 500)\n",
    "max_final_PFOS_PFOA_70_geo.head()"
   ]
  },
  {
   "cell_type": "code",
   "execution_count": null,
   "id": "b7dcbb3d",
   "metadata": {},
   "outputs": [],
   "source": [
    "#calculate number of facilities with an exceedance of EPA MCL old screening level of 70 ppt\n",
    "max_final_PFOS_PFOA_70_geo.exceedance.value_counts()"
   ]
  },
  {
   "cell_type": "code",
   "execution_count": null,
   "id": "42695d0d",
   "metadata": {},
   "outputs": [],
   "source": [
    "max_final_PFOS_PFOA_70_geo.shape"
   ]
  },
  {
   "cell_type": "code",
   "execution_count": null,
   "id": "b1ff8935",
   "metadata": {},
   "outputs": [],
   "source": [
    "max_final_PFOS_PFOA_70_geo['name'].nunique()"
   ]
  },
  {
   "cell_type": "code",
   "execution_count": null,
   "id": "91f91755",
   "metadata": {},
   "outputs": [],
   "source": [
    "max_final_PFOS_PFOA_70_geo['longitude'].nunique()"
   ]
  },
  {
   "cell_type": "code",
   "execution_count": null,
   "id": "d1542b89",
   "metadata": {},
   "outputs": [],
   "source": [
    "max_final_PFOS_PFOA_70_geo.to_csv(\n",
    "r\"C:\\Users\\OITNYNWilsoS\\OneDrive - Department of Veterans Affairs\\PACT Act\\MET\\deliverables\\Jan_2024\\geo_max_PFOA_PFOS_70MCL_21_23.csv\", index=False, na_rep=np.nan)"
   ]
  },
  {
   "cell_type": "markdown",
   "id": "b4e6dc6b",
   "metadata": {},
   "source": [
    "#### Look at all the data to determine date range"
   ]
  },
  {
   "cell_type": "code",
   "execution_count": null,
   "id": "16d1d47a",
   "metadata": {
    "scrolled": true
   },
   "outputs": [],
   "source": [
    "#analyze dates\n",
    "final_data_dates = all_sample_data_21_23\n",
    "final_data_dates = final_data_dates.sort_values(['date'], ascending=True)\n",
    "final_data_dates.reset_index(drop=True, inplace=True)\n",
    "final_data_dates.head()"
   ]
  },
  {
   "cell_type": "code",
   "execution_count": null,
   "id": "bf4d754c",
   "metadata": {},
   "outputs": [],
   "source": [
    "final_data_dates.tail()"
   ]
  }
 ],
 "metadata": {
  "kernelspec": {
   "display_name": "Python 3 (ipykernel)",
   "language": "python",
   "name": "python3"
  },
  "language_info": {
   "codemirror_mode": {
    "name": "ipython",
    "version": 3
   },
   "file_extension": ".py",
   "mimetype": "text/x-python",
   "name": "python",
   "nbconvert_exporter": "python",
   "pygments_lexer": "ipython3",
   "version": "3.11.5"
  }
 },
 "nbformat": 4,
 "nbformat_minor": 5
}
