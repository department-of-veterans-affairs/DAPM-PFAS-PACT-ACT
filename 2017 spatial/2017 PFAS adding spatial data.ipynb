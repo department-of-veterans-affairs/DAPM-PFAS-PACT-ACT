{
 "cells": [
  {
   "cell_type": "markdown",
   "id": "4c51ccf0",
   "metadata": {},
   "source": [
    "## This notebook adds geospatial data from one dataframe to another. It uses fuzzy matching between military installation names \n",
    "\n",
    "### all of the data was scraped from a Department of Defense's  Per- and polyfluoroalkyl substances (PFAS)  website: https://www.acq.osd.mil/eie/eer/ecc/pfas/map/pfasmap.html"
   ]
  },
  {
   "cell_type": "code",
   "execution_count": 1,
   "id": "b9edbe82",
   "metadata": {},
   "outputs": [
    {
     "name": "stdout",
     "output_type": "stream",
     "text": [
      "Current working directory is: C:\\Users\\OITNYNWilsoS\\OneDrive - Department of Veterans Affairs\\python\\PACT Act - MET\\final version January 2024\n"
     ]
    }
   ],
   "source": [
    "import os\n",
    "import pandas as pd\n",
    "import plotly.express as px\n",
    "import geopandas as gpd\n",
    "import matplotlib\n",
    "import matplotlib.pyplot as plt\n",
    "from fuzzywuzzy import process\n",
    "import numpy as np\n",
    "\n",
    "os.chdir(\n",
    "r'C:\\Users\\OITNYNWilsoS\\OneDrive - Department of Veterans Affairs\\python\\PACT Act - MET\\final version January 2024')\n",
    "cwd = os.getcwd()\n",
    "print(\"Current working directory is:\", cwd)"
   ]
  },
  {
   "cell_type": "code",
   "execution_count": 2,
   "id": "5bbb87e8",
   "metadata": {
    "scrolled": true
   },
   "outputs": [
    {
     "data": {
      "text/html": [
       "<div>\n",
       "<style scoped>\n",
       "    .dataframe tbody tr th:only-of-type {\n",
       "        vertical-align: middle;\n",
       "    }\n",
       "\n",
       "    .dataframe tbody tr th {\n",
       "        vertical-align: top;\n",
       "    }\n",
       "\n",
       "    .dataframe thead th {\n",
       "        text-align: right;\n",
       "    }\n",
       "</style>\n",
       "<table border=\"1\" class=\"dataframe\">\n",
       "  <thead>\n",
       "    <tr style=\"text-align: right;\">\n",
       "      <th></th>\n",
       "      <th>branch</th>\n",
       "      <th>state</th>\n",
       "      <th>name</th>\n",
       "      <th>type</th>\n",
       "      <th>latitude</th>\n",
       "      <th>longitude</th>\n",
       "    </tr>\n",
       "  </thead>\n",
       "  <tbody>\n",
       "    <tr>\n",
       "      <th>0</th>\n",
       "      <td>Army</td>\n",
       "      <td>Virgin Islands</td>\n",
       "      <td>AAOF BLAIR HANGAR</td>\n",
       "      <td>National Guard</td>\n",
       "      <td>17.725062</td>\n",
       "      <td>-64.782945</td>\n",
       "    </tr>\n",
       "    <tr>\n",
       "      <th>1</th>\n",
       "      <td>Army</td>\n",
       "      <td>Alabama</td>\n",
       "      <td>AASF #1 R W SHEPHERD HOPE HULL</td>\n",
       "      <td>National Guard</td>\n",
       "      <td>32.287216</td>\n",
       "      <td>-86.394073</td>\n",
       "    </tr>\n",
       "    <tr>\n",
       "      <th>2</th>\n",
       "      <td>Army</td>\n",
       "      <td>Alabama</td>\n",
       "      <td>AASF #2 BIRMINGHAM</td>\n",
       "      <td>National Guard</td>\n",
       "      <td>33.572333</td>\n",
       "      <td>-86.750542</td>\n",
       "    </tr>\n",
       "    <tr>\n",
       "      <th>3</th>\n",
       "      <td>Army</td>\n",
       "      <td>Tennessee</td>\n",
       "      <td>AASF #2 TN</td>\n",
       "      <td>National Guard</td>\n",
       "      <td>35.821234</td>\n",
       "      <td>-83.994949</td>\n",
       "    </tr>\n",
       "    <tr>\n",
       "      <th>4</th>\n",
       "      <td>Army</td>\n",
       "      <td>Washington</td>\n",
       "      <td>AASF #2 WA</td>\n",
       "      <td>National Guard</td>\n",
       "      <td>47.618166</td>\n",
       "      <td>-117.641352</td>\n",
       "    </tr>\n",
       "  </tbody>\n",
       "</table>\n",
       "</div>"
      ],
      "text/plain": [
       "  branch           state                            name            type  \\\n",
       "0   Army  Virgin Islands               AAOF BLAIR HANGAR  National Guard   \n",
       "1   Army         Alabama  AASF #1 R W SHEPHERD HOPE HULL  National Guard   \n",
       "2   Army         Alabama              AASF #2 BIRMINGHAM  National Guard   \n",
       "3   Army       Tennessee                      AASF #2 TN  National Guard   \n",
       "4   Army      Washington                      AASF #2 WA  National Guard   \n",
       "\n",
       "    latitude   longitude  \n",
       "0  17.725062  -64.782945  \n",
       "1  32.287216  -86.394073  \n",
       "2  33.572333  -86.750542  \n",
       "3  35.821234  -83.994949  \n",
       "4  47.618166 -117.641352  "
      ]
     },
     "execution_count": 2,
     "metadata": {},
     "output_type": "execute_result"
    }
   ],
   "source": [
    "#metadata_df is a stored table of 703 military installations and their spatial data. This data was webscraped\n",
    "# from DOD's PFAS website. See the \"DAPM-PFAS-web-scrape-and-map\" repository on Veterans Affairs GitHub account. \n",
    "# pulling from an older csv file because newest pull did not have South Korea data\n",
    "\n",
    "geo = pd.read_csv(\n",
    "r\"C:\\Users\\OITNYNWilsoS\\OneDrive - Department of Veterans Affairs\\PACT Act\\MET\\deliverables\\military_bases_spatial.csv\")\n",
    "\n",
    "geo.head()"
   ]
  },
  {
   "cell_type": "code",
   "execution_count": 3,
   "id": "55589b32",
   "metadata": {},
   "outputs": [
    {
     "data": {
      "text/html": [
       "<div>\n",
       "<style scoped>\n",
       "    .dataframe tbody tr th:only-of-type {\n",
       "        vertical-align: middle;\n",
       "    }\n",
       "\n",
       "    .dataframe tbody tr th {\n",
       "        vertical-align: top;\n",
       "    }\n",
       "\n",
       "    .dataframe thead th {\n",
       "        text-align: right;\n",
       "    }\n",
       "</style>\n",
       "<table border=\"1\" class=\"dataframe\">\n",
       "  <thead>\n",
       "    <tr style=\"text-align: right;\">\n",
       "      <th></th>\n",
       "      <th>branch</th>\n",
       "      <th>name</th>\n",
       "      <th>state</th>\n",
       "      <th>date</th>\n",
       "      <th>number_systems_tested</th>\n",
       "      <th>number_above_EPA_LHA</th>\n",
       "      <th>results_raw</th>\n",
       "      <th>actions_as_of_August_31_2017</th>\n",
       "      <th>planned_actions_to_reduce</th>\n",
       "      <th>purveyor</th>\n",
       "      <th>on_or_off_base</th>\n",
       "      <th>results</th>\n",
       "      <th>analyte</th>\n",
       "    </tr>\n",
       "  </thead>\n",
       "  <tbody>\n",
       "    <tr>\n",
       "      <th>0</th>\n",
       "      <td>Army</td>\n",
       "      <td>81ST RSC: E. EARLE RIVES AFRC</td>\n",
       "      <td>North Carolina</td>\n",
       "      <td>2017</td>\n",
       "      <td>1</td>\n",
       "      <td>1</td>\n",
       "      <td>&lt;40-90</td>\n",
       "      <td>PFOS per 2014 Consumer Confidence Report. The ...</td>\n",
       "      <td>NaN</td>\n",
       "      <td>non-DOD</td>\n",
       "      <td>on</td>\n",
       "      <td>90.0</td>\n",
       "      <td>NaN</td>\n",
       "    </tr>\n",
       "    <tr>\n",
       "      <th>1</th>\n",
       "      <td>Navy - BRAC</td>\n",
       "      <td>AGANA</td>\n",
       "      <td>Guam</td>\n",
       "      <td>2017</td>\n",
       "      <td>12</td>\n",
       "      <td>5</td>\n",
       "      <td>88 - 410</td>\n",
       "      <td>Sampling conducted by Guam Waterworks Authorit...</td>\n",
       "      <td>NaN</td>\n",
       "      <td>non-DOD</td>\n",
       "      <td>off</td>\n",
       "      <td>410.0</td>\n",
       "      <td>NaN</td>\n",
       "    </tr>\n",
       "    <tr>\n",
       "      <th>2</th>\n",
       "      <td>Air Force - ANG</td>\n",
       "      <td>BARNES MUNICIPAL</td>\n",
       "      <td>Massachusetts</td>\n",
       "      <td>2017</td>\n",
       "      <td>1</td>\n",
       "      <td>1</td>\n",
       "      <td>43-160 ppt (PFOS+PFOA)</td>\n",
       "      <td>Base obtains water from Westfield Water Dept. ...</td>\n",
       "      <td>Water sources will continue to be sampled for ...</td>\n",
       "      <td>non-DOD</td>\n",
       "      <td>on</td>\n",
       "      <td>160.0</td>\n",
       "      <td>PFOA+PFOS</td>\n",
       "    </tr>\n",
       "    <tr>\n",
       "      <th>3</th>\n",
       "      <td>Navy</td>\n",
       "      <td>BARROW AK NARL</td>\n",
       "      <td>Alaska</td>\n",
       "      <td>2017</td>\n",
       "      <td>5</td>\n",
       "      <td>5</td>\n",
       "      <td>144 - 262</td>\n",
       "      <td>*Surface water (Imikpuk Lake) sampled; serves ...</td>\n",
       "      <td>Continue investigation</td>\n",
       "      <td>non-DOD</td>\n",
       "      <td>off</td>\n",
       "      <td>262.0</td>\n",
       "      <td>NaN</td>\n",
       "    </tr>\n",
       "    <tr>\n",
       "      <th>4</th>\n",
       "      <td>Army</td>\n",
       "      <td>BELMONT ARMORY</td>\n",
       "      <td>Michigan</td>\n",
       "      <td>2017</td>\n",
       "      <td>1</td>\n",
       "      <td>1</td>\n",
       "      <td>86-96.8</td>\n",
       "      <td>MIARNG spoke with potential responsible party ...</td>\n",
       "      <td>MIARNG is waiting for response from PRP, explo...</td>\n",
       "      <td>DOD</td>\n",
       "      <td>on</td>\n",
       "      <td>96.8</td>\n",
       "      <td>NaN</td>\n",
       "    </tr>\n",
       "  </tbody>\n",
       "</table>\n",
       "</div>"
      ],
      "text/plain": [
       "            branch                           name           state  date  \\\n",
       "0             Army  81ST RSC: E. EARLE RIVES AFRC  North Carolina  2017   \n",
       "1      Navy - BRAC                          AGANA            Guam  2017   \n",
       "2  Air Force - ANG               BARNES MUNICIPAL   Massachusetts  2017   \n",
       "3             Navy                 BARROW AK NARL          Alaska  2017   \n",
       "4             Army                 BELMONT ARMORY        Michigan  2017   \n",
       "\n",
       "  number_systems_tested number_above_EPA_LHA             results_raw  \\\n",
       "0                     1                    1                  <40-90   \n",
       "1                    12                    5                88 - 410   \n",
       "2                     1                    1  43-160 ppt (PFOS+PFOA)   \n",
       "3                     5                    5               144 - 262   \n",
       "4                     1                    1                 86-96.8   \n",
       "\n",
       "                        actions_as_of_August_31_2017  \\\n",
       "0  PFOS per 2014 Consumer Confidence Report. The ...   \n",
       "1  Sampling conducted by Guam Waterworks Authorit...   \n",
       "2  Base obtains water from Westfield Water Dept. ...   \n",
       "3  *Surface water (Imikpuk Lake) sampled; serves ...   \n",
       "4  MIARNG spoke with potential responsible party ...   \n",
       "\n",
       "                           planned_actions_to_reduce purveyor on_or_off_base  \\\n",
       "0                                                NaN  non-DOD             on   \n",
       "1                                                NaN  non-DOD            off   \n",
       "2  Water sources will continue to be sampled for ...  non-DOD             on   \n",
       "3                             Continue investigation  non-DOD            off   \n",
       "4  MIARNG is waiting for response from PRP, explo...      DOD             on   \n",
       "\n",
       "   results    analyte  \n",
       "0     90.0        NaN  \n",
       "1    410.0        NaN  \n",
       "2    160.0  PFOA+PFOS  \n",
       "3    262.0        NaN  \n",
       "4     96.8        NaN  "
      ]
     },
     "execution_count": 3,
     "metadata": {},
     "output_type": "execute_result"
    }
   ],
   "source": [
    "#pull in the data from March 2018 publically avilable DOD report on PFAS in drinking water. This data was scraped from\n",
    "#a PDF file. See \"DAPM-PFAS-PDF-scrape\" repoisitory on VA's GitHub account.\n",
    "\n",
    "df_2018 = pd.read_csv(\n",
    "r\"C:\\Users\\OITNYNWilsoS\\OneDrive - Department of Veterans Affairs\\PACT Act\\MET\\deliverables\\Jan_2024\\max_PFAS_17.csv\")\n",
    "\n",
    "df_2018.head()"
   ]
  },
  {
   "cell_type": "code",
   "execution_count": 4,
   "id": "465b2775",
   "metadata": {},
   "outputs": [
    {
     "data": {
      "text/plain": [
       "51"
      ]
     },
     "execution_count": 4,
     "metadata": {},
     "output_type": "execute_result"
    }
   ],
   "source": [
    "#code to determine number of unique installations\n",
    "unique = df_2018[\"name\"].nunique()\n",
    "unique"
   ]
  },
  {
   "cell_type": "code",
   "execution_count": 5,
   "id": "a0accbdd",
   "metadata": {
    "scrolled": true
   },
   "outputs": [
    {
     "data": {
      "text/html": [
       "<div>\n",
       "<style scoped>\n",
       "    .dataframe tbody tr th:only-of-type {\n",
       "        vertical-align: middle;\n",
       "    }\n",
       "\n",
       "    .dataframe tbody tr th {\n",
       "        vertical-align: top;\n",
       "    }\n",
       "\n",
       "    .dataframe thead th {\n",
       "        text-align: right;\n",
       "    }\n",
       "</style>\n",
       "<table border=\"1\" class=\"dataframe\">\n",
       "  <thead>\n",
       "    <tr style=\"text-align: right;\">\n",
       "      <th></th>\n",
       "      <th>branch</th>\n",
       "      <th>name</th>\n",
       "      <th>state</th>\n",
       "      <th>date</th>\n",
       "      <th>number_systems_tested</th>\n",
       "      <th>number_above_EPA_LHA</th>\n",
       "      <th>results_raw</th>\n",
       "      <th>actions_as_of_August_31_2017</th>\n",
       "      <th>planned_actions_to_reduce</th>\n",
       "      <th>purveyor</th>\n",
       "      <th>on_or_off_base</th>\n",
       "      <th>results</th>\n",
       "      <th>analyte</th>\n",
       "    </tr>\n",
       "  </thead>\n",
       "  <tbody>\n",
       "    <tr>\n",
       "      <th>0</th>\n",
       "      <td>Army</td>\n",
       "      <td>81ST RSC: E. EARLE RIVES AFRC</td>\n",
       "      <td>North Carolina</td>\n",
       "      <td>2017</td>\n",
       "      <td>1</td>\n",
       "      <td>1</td>\n",
       "      <td>&lt;40-90</td>\n",
       "      <td>PFOS per 2014 Consumer Confidence Report. The ...</td>\n",
       "      <td>NaN</td>\n",
       "      <td>non-DOD</td>\n",
       "      <td>on</td>\n",
       "      <td>90.0</td>\n",
       "      <td>NaN</td>\n",
       "    </tr>\n",
       "    <tr>\n",
       "      <th>1</th>\n",
       "      <td>Navy - BRAC</td>\n",
       "      <td>AGANA</td>\n",
       "      <td>Guam</td>\n",
       "      <td>2017</td>\n",
       "      <td>12</td>\n",
       "      <td>5</td>\n",
       "      <td>88 - 410</td>\n",
       "      <td>Sampling conducted by Guam Waterworks Authorit...</td>\n",
       "      <td>NaN</td>\n",
       "      <td>non-DOD</td>\n",
       "      <td>off</td>\n",
       "      <td>410.0</td>\n",
       "      <td>NaN</td>\n",
       "    </tr>\n",
       "    <tr>\n",
       "      <th>2</th>\n",
       "      <td>Air Force - ANG</td>\n",
       "      <td>BARNES MUNICIPAL</td>\n",
       "      <td>Massachusetts</td>\n",
       "      <td>2017</td>\n",
       "      <td>1</td>\n",
       "      <td>1</td>\n",
       "      <td>43-160 ppt (PFOS+PFOA)</td>\n",
       "      <td>Base obtains water from Westfield Water Dept. ...</td>\n",
       "      <td>Water sources will continue to be sampled for ...</td>\n",
       "      <td>non-DOD</td>\n",
       "      <td>on</td>\n",
       "      <td>160.0</td>\n",
       "      <td>PFOA+PFOS</td>\n",
       "    </tr>\n",
       "    <tr>\n",
       "      <th>3</th>\n",
       "      <td>Navy</td>\n",
       "      <td>BARROW AK NARL</td>\n",
       "      <td>Alaska</td>\n",
       "      <td>2017</td>\n",
       "      <td>5</td>\n",
       "      <td>5</td>\n",
       "      <td>144 - 262</td>\n",
       "      <td>*Surface water (Imikpuk Lake) sampled; serves ...</td>\n",
       "      <td>Continue investigation</td>\n",
       "      <td>non-DOD</td>\n",
       "      <td>off</td>\n",
       "      <td>262.0</td>\n",
       "      <td>NaN</td>\n",
       "    </tr>\n",
       "    <tr>\n",
       "      <th>4</th>\n",
       "      <td>Army</td>\n",
       "      <td>BELMONT ARMORY</td>\n",
       "      <td>Michigan</td>\n",
       "      <td>2017</td>\n",
       "      <td>1</td>\n",
       "      <td>1</td>\n",
       "      <td>86-96.8</td>\n",
       "      <td>MIARNG spoke with potential responsible party ...</td>\n",
       "      <td>MIARNG is waiting for response from PRP, explo...</td>\n",
       "      <td>DOD</td>\n",
       "      <td>on</td>\n",
       "      <td>96.8</td>\n",
       "      <td>NaN</td>\n",
       "    </tr>\n",
       "  </tbody>\n",
       "</table>\n",
       "</div>"
      ],
      "text/plain": [
       "            branch                           name           state  date  \\\n",
       "0             Army  81ST RSC: E. EARLE RIVES AFRC  North Carolina  2017   \n",
       "1      Navy - BRAC                          AGANA            Guam  2017   \n",
       "2  Air Force - ANG               BARNES MUNICIPAL   Massachusetts  2017   \n",
       "3             Navy                 BARROW AK NARL          Alaska  2017   \n",
       "4             Army                 BELMONT ARMORY        Michigan  2017   \n",
       "\n",
       "  number_systems_tested number_above_EPA_LHA             results_raw  \\\n",
       "0                     1                    1                  <40-90   \n",
       "1                    12                    5                88 - 410   \n",
       "2                     1                    1  43-160 ppt (PFOS+PFOA)   \n",
       "3                     5                    5               144 - 262   \n",
       "4                     1                    1                 86-96.8   \n",
       "\n",
       "                        actions_as_of_August_31_2017  \\\n",
       "0  PFOS per 2014 Consumer Confidence Report. The ...   \n",
       "1  Sampling conducted by Guam Waterworks Authorit...   \n",
       "2  Base obtains water from Westfield Water Dept. ...   \n",
       "3  *Surface water (Imikpuk Lake) sampled; serves ...   \n",
       "4  MIARNG spoke with potential responsible party ...   \n",
       "\n",
       "                           planned_actions_to_reduce purveyor on_or_off_base  \\\n",
       "0                                                NaN  non-DOD             on   \n",
       "1                                                NaN  non-DOD            off   \n",
       "2  Water sources will continue to be sampled for ...  non-DOD             on   \n",
       "3                             Continue investigation  non-DOD            off   \n",
       "4  MIARNG is waiting for response from PRP, explo...      DOD             on   \n",
       "\n",
       "   results    analyte  \n",
       "0     90.0        NaN  \n",
       "1    410.0        NaN  \n",
       "2    160.0  PFOA+PFOS  \n",
       "3    262.0        NaN  \n",
       "4     96.8        NaN  "
      ]
     },
     "execution_count": 5,
     "metadata": {},
     "output_type": "execute_result"
    }
   ],
   "source": [
    "df_2018.head()"
   ]
  },
  {
   "cell_type": "code",
   "execution_count": 6,
   "id": "3fe2620e",
   "metadata": {},
   "outputs": [
    {
     "data": {
      "text/html": [
       "<div>\n",
       "<style scoped>\n",
       "    .dataframe tbody tr th:only-of-type {\n",
       "        vertical-align: middle;\n",
       "    }\n",
       "\n",
       "    .dataframe tbody tr th {\n",
       "        vertical-align: top;\n",
       "    }\n",
       "\n",
       "    .dataframe thead th {\n",
       "        text-align: right;\n",
       "    }\n",
       "</style>\n",
       "<table border=\"1\" class=\"dataframe\">\n",
       "  <thead>\n",
       "    <tr style=\"text-align: right;\">\n",
       "      <th></th>\n",
       "      <th>branch</th>\n",
       "      <th>state</th>\n",
       "      <th>name</th>\n",
       "      <th>type</th>\n",
       "      <th>latitude</th>\n",
       "      <th>longitude</th>\n",
       "    </tr>\n",
       "  </thead>\n",
       "  <tbody>\n",
       "    <tr>\n",
       "      <th>0</th>\n",
       "      <td>Army</td>\n",
       "      <td>Virgin Islands</td>\n",
       "      <td>AAOF BLAIR HANGAR</td>\n",
       "      <td>National Guard</td>\n",
       "      <td>17.725062</td>\n",
       "      <td>-64.782945</td>\n",
       "    </tr>\n",
       "    <tr>\n",
       "      <th>1</th>\n",
       "      <td>Army</td>\n",
       "      <td>Alabama</td>\n",
       "      <td>AASF #1 R W SHEPHERD HOPE HULL</td>\n",
       "      <td>National Guard</td>\n",
       "      <td>32.287216</td>\n",
       "      <td>-86.394073</td>\n",
       "    </tr>\n",
       "    <tr>\n",
       "      <th>2</th>\n",
       "      <td>Army</td>\n",
       "      <td>Alabama</td>\n",
       "      <td>AASF #2 BIRMINGHAM</td>\n",
       "      <td>National Guard</td>\n",
       "      <td>33.572333</td>\n",
       "      <td>-86.750542</td>\n",
       "    </tr>\n",
       "    <tr>\n",
       "      <th>3</th>\n",
       "      <td>Army</td>\n",
       "      <td>Tennessee</td>\n",
       "      <td>AASF #2 TN</td>\n",
       "      <td>National Guard</td>\n",
       "      <td>35.821234</td>\n",
       "      <td>-83.994949</td>\n",
       "    </tr>\n",
       "    <tr>\n",
       "      <th>4</th>\n",
       "      <td>Army</td>\n",
       "      <td>Washington</td>\n",
       "      <td>AASF #2 WA</td>\n",
       "      <td>National Guard</td>\n",
       "      <td>47.618166</td>\n",
       "      <td>-117.641352</td>\n",
       "    </tr>\n",
       "  </tbody>\n",
       "</table>\n",
       "</div>"
      ],
      "text/plain": [
       "  branch           state                            name            type  \\\n",
       "0   Army  Virgin Islands               AAOF BLAIR HANGAR  National Guard   \n",
       "1   Army         Alabama  AASF #1 R W SHEPHERD HOPE HULL  National Guard   \n",
       "2   Army         Alabama              AASF #2 BIRMINGHAM  National Guard   \n",
       "3   Army       Tennessee                      AASF #2 TN  National Guard   \n",
       "4   Army      Washington                      AASF #2 WA  National Guard   \n",
       "\n",
       "    latitude   longitude  \n",
       "0  17.725062  -64.782945  \n",
       "1  32.287216  -86.394073  \n",
       "2  33.572333  -86.750542  \n",
       "3  35.821234  -83.994949  \n",
       "4  47.618166 -117.641352  "
      ]
     },
     "execution_count": 6,
     "metadata": {},
     "output_type": "execute_result"
    }
   ],
   "source": [
    "geo.head()"
   ]
  },
  {
   "cell_type": "code",
   "execution_count": 7,
   "id": "540678fa",
   "metadata": {},
   "outputs": [
    {
     "data": {
      "text/html": [
       "<div>\n",
       "<style scoped>\n",
       "    .dataframe tbody tr th:only-of-type {\n",
       "        vertical-align: middle;\n",
       "    }\n",
       "\n",
       "    .dataframe tbody tr th {\n",
       "        vertical-align: top;\n",
       "    }\n",
       "\n",
       "    .dataframe thead th {\n",
       "        text-align: right;\n",
       "    }\n",
       "</style>\n",
       "<table border=\"1\" class=\"dataframe\">\n",
       "  <thead>\n",
       "    <tr style=\"text-align: right;\">\n",
       "      <th></th>\n",
       "      <th>branch</th>\n",
       "      <th>name</th>\n",
       "      <th>state</th>\n",
       "      <th>date</th>\n",
       "      <th>number_systems_tested</th>\n",
       "      <th>number_above_EPA_LHA</th>\n",
       "      <th>results_raw</th>\n",
       "      <th>actions_as_of_August_31_2017</th>\n",
       "      <th>planned_actions_to_reduce</th>\n",
       "      <th>purveyor</th>\n",
       "      <th>on_or_off_base</th>\n",
       "      <th>results</th>\n",
       "      <th>analyte</th>\n",
       "      <th>name_geo</th>\n",
       "      <th>similarity</th>\n",
       "    </tr>\n",
       "  </thead>\n",
       "  <tbody>\n",
       "    <tr>\n",
       "      <th>31</th>\n",
       "      <td>Navy</td>\n",
       "      <td>NSF DIEGO GARCIA</td>\n",
       "      <td>Diego Garcia</td>\n",
       "      <td>2017</td>\n",
       "      <td>5</td>\n",
       "      <td>3</td>\n",
       "      <td>77-5,849</td>\n",
       "      <td>Alternate drinking water was already being pro...</td>\n",
       "      <td>Continued monitoring for PFOS and PFOA at the ...</td>\n",
       "      <td>DOD</td>\n",
       "      <td>on</td>\n",
       "      <td>5849.0</td>\n",
       "      <td>NaN</td>\n",
       "      <td>NAVBASE SAN DIEGO</td>\n",
       "      <td>58</td>\n",
       "    </tr>\n",
       "    <tr>\n",
       "      <th>0</th>\n",
       "      <td>Army</td>\n",
       "      <td>81ST RSC: E. EARLE RIVES AFRC</td>\n",
       "      <td>North Carolina</td>\n",
       "      <td>2017</td>\n",
       "      <td>1</td>\n",
       "      <td>1</td>\n",
       "      <td>&lt;40-90</td>\n",
       "      <td>PFOS per 2014 Consumer Confidence Report. The ...</td>\n",
       "      <td>NaN</td>\n",
       "      <td>non-DOD</td>\n",
       "      <td>on</td>\n",
       "      <td>90.0</td>\n",
       "      <td>NaN</td>\n",
       "      <td>NMC DET EARLE</td>\n",
       "      <td>86</td>\n",
       "    </tr>\n",
       "    <tr>\n",
       "      <th>42</th>\n",
       "      <td>Army</td>\n",
       "      <td>USAG RED CLOUD, KR: CAMP RED CLOUD</td>\n",
       "      <td>South Korea</td>\n",
       "      <td>2017</td>\n",
       "      <td>1</td>\n",
       "      <td>1</td>\n",
       "      <td>PFOA + PFOS combined = 171- 466</td>\n",
       "      <td>Initial, confirmatory and subsequent sampling ...</td>\n",
       "      <td>Continue to use Army system wells producing wa...</td>\n",
       "      <td>DOD</td>\n",
       "      <td>on</td>\n",
       "      <td>466.0</td>\n",
       "      <td>PFOA+PFOS</td>\n",
       "      <td>CAMP LEJEUNE NC MCB</td>\n",
       "      <td>86</td>\n",
       "    </tr>\n",
       "    <tr>\n",
       "      <th>41</th>\n",
       "      <td>Army</td>\n",
       "      <td>USAG BENELUX - CASERNE DAUMERIE, BE</td>\n",
       "      <td>Belgium</td>\n",
       "      <td>2017</td>\n",
       "      <td>1</td>\n",
       "      <td>1</td>\n",
       "      <td>PFOA + PFOS combined = 84-94</td>\n",
       "      <td>Purchased water - Initial and confirmatory sam...</td>\n",
       "      <td>Continued use of bottled water until closure/t...</td>\n",
       "      <td>non-DOD</td>\n",
       "      <td>on</td>\n",
       "      <td>94.0</td>\n",
       "      <td>PFOA+PFOS</td>\n",
       "      <td>USAG ITALY - VICENZA</td>\n",
       "      <td>86</td>\n",
       "    </tr>\n",
       "    <tr>\n",
       "      <th>24</th>\n",
       "      <td>USMC</td>\n",
       "      <td>MCB CAMP PENDLETON SOUTH</td>\n",
       "      <td>California</td>\n",
       "      <td>2017</td>\n",
       "      <td>1</td>\n",
       "      <td>1</td>\n",
       "      <td>77</td>\n",
       "      <td>One sample exceeded the PFOS/PFOA combined Hea...</td>\n",
       "      <td>Installation will continue to monitor the system.</td>\n",
       "      <td>DOD</td>\n",
       "      <td>on</td>\n",
       "      <td>77.0</td>\n",
       "      <td>NaN</td>\n",
       "      <td>CAMP PENDLETON CA MCB</td>\n",
       "      <td>87</td>\n",
       "    </tr>\n",
       "    <tr>\n",
       "      <th>1</th>\n",
       "      <td>Navy - BRAC</td>\n",
       "      <td>AGANA</td>\n",
       "      <td>Guam</td>\n",
       "      <td>2017</td>\n",
       "      <td>12</td>\n",
       "      <td>5</td>\n",
       "      <td>88 - 410</td>\n",
       "      <td>Sampling conducted by Guam Waterworks Authorit...</td>\n",
       "      <td>NaN</td>\n",
       "      <td>non-DOD</td>\n",
       "      <td>off</td>\n",
       "      <td>410.0</td>\n",
       "      <td>NaN</td>\n",
       "      <td>GUAM AGANA NAS</td>\n",
       "      <td>90</td>\n",
       "    </tr>\n",
       "    <tr>\n",
       "      <th>43</th>\n",
       "      <td>Army</td>\n",
       "      <td>USAG RED CLOUD, KR: CAMP STANLEY</td>\n",
       "      <td>South Korea</td>\n",
       "      <td>2017</td>\n",
       "      <td>1</td>\n",
       "      <td>1</td>\n",
       "      <td>PFOA + PFOS combined = 80- 1,061</td>\n",
       "      <td>Initial, confirmatory and subsequent sampling ...</td>\n",
       "      <td>Continue to use Army system wells producing wa...</td>\n",
       "      <td>DOD</td>\n",
       "      <td>on</td>\n",
       "      <td>1061.0</td>\n",
       "      <td>PFOA+PFOS</td>\n",
       "      <td>CAMP STANLEY</td>\n",
       "      <td>90</td>\n",
       "    </tr>\n",
       "    <tr>\n",
       "      <th>29</th>\n",
       "      <td>Air Force - ANG</td>\n",
       "      <td>NEW CASTLE ANGB 166TH</td>\n",
       "      <td>Delaware</td>\n",
       "      <td>2017</td>\n",
       "      <td>1</td>\n",
       "      <td>1</td>\n",
       "      <td>140-1800 ppt (PFOS+PFOA)</td>\n",
       "      <td>Artesian Water Company discontinued the use of...</td>\n",
       "      <td>Supplier took actions consistent with AF policy</td>\n",
       "      <td>non-DOD</td>\n",
       "      <td>on</td>\n",
       "      <td>1800.0</td>\n",
       "      <td>PFOA+PFOS</td>\n",
       "      <td>NEW CASTLE</td>\n",
       "      <td>90</td>\n",
       "    </tr>\n",
       "  </tbody>\n",
       "</table>\n",
       "</div>"
      ],
      "text/plain": [
       "             branch                                 name           state  \\\n",
       "31             Navy                     NSF DIEGO GARCIA    Diego Garcia   \n",
       "0              Army        81ST RSC: E. EARLE RIVES AFRC  North Carolina   \n",
       "42             Army   USAG RED CLOUD, KR: CAMP RED CLOUD     South Korea   \n",
       "41             Army  USAG BENELUX - CASERNE DAUMERIE, BE         Belgium   \n",
       "24             USMC             MCB CAMP PENDLETON SOUTH      California   \n",
       "1       Navy - BRAC                                AGANA            Guam   \n",
       "43             Army     USAG RED CLOUD, KR: CAMP STANLEY     South Korea   \n",
       "29  Air Force - ANG                NEW CASTLE ANGB 166TH        Delaware   \n",
       "\n",
       "    date number_systems_tested number_above_EPA_LHA  \\\n",
       "31  2017                     5                    3   \n",
       "0   2017                     1                    1   \n",
       "42  2017                     1                    1   \n",
       "41  2017                     1                    1   \n",
       "24  2017                     1                    1   \n",
       "1   2017                    12                    5   \n",
       "43  2017                     1                    1   \n",
       "29  2017                     1                    1   \n",
       "\n",
       "                         results_raw  \\\n",
       "31                          77-5,849   \n",
       "0                             <40-90   \n",
       "42   PFOA + PFOS combined = 171- 466   \n",
       "41      PFOA + PFOS combined = 84-94   \n",
       "24                                77   \n",
       "1                           88 - 410   \n",
       "43  PFOA + PFOS combined = 80- 1,061   \n",
       "29          140-1800 ppt (PFOS+PFOA)   \n",
       "\n",
       "                         actions_as_of_August_31_2017  \\\n",
       "31  Alternate drinking water was already being pro...   \n",
       "0   PFOS per 2014 Consumer Confidence Report. The ...   \n",
       "42  Initial, confirmatory and subsequent sampling ...   \n",
       "41  Purchased water - Initial and confirmatory sam...   \n",
       "24  One sample exceeded the PFOS/PFOA combined Hea...   \n",
       "1   Sampling conducted by Guam Waterworks Authorit...   \n",
       "43  Initial, confirmatory and subsequent sampling ...   \n",
       "29  Artesian Water Company discontinued the use of...   \n",
       "\n",
       "                            planned_actions_to_reduce purveyor on_or_off_base  \\\n",
       "31  Continued monitoring for PFOS and PFOA at the ...      DOD             on   \n",
       "0                                                 NaN  non-DOD             on   \n",
       "42  Continue to use Army system wells producing wa...      DOD             on   \n",
       "41  Continued use of bottled water until closure/t...  non-DOD             on   \n",
       "24  Installation will continue to monitor the system.      DOD             on   \n",
       "1                                                 NaN  non-DOD            off   \n",
       "43  Continue to use Army system wells producing wa...      DOD             on   \n",
       "29    Supplier took actions consistent with AF policy  non-DOD             on   \n",
       "\n",
       "    results    analyte               name_geo  similarity  \n",
       "31   5849.0        NaN      NAVBASE SAN DIEGO          58  \n",
       "0      90.0        NaN          NMC DET EARLE          86  \n",
       "42    466.0  PFOA+PFOS    CAMP LEJEUNE NC MCB          86  \n",
       "41     94.0  PFOA+PFOS   USAG ITALY - VICENZA          86  \n",
       "24     77.0        NaN  CAMP PENDLETON CA MCB          87  \n",
       "1     410.0        NaN         GUAM AGANA NAS          90  \n",
       "43   1061.0  PFOA+PFOS           CAMP STANLEY          90  \n",
       "29   1800.0  PFOA+PFOS             NEW CASTLE          90  "
      ]
     },
     "execution_count": 7,
     "metadata": {},
     "output_type": "execute_result"
    }
   ],
   "source": [
    "#use fuzzy matching compare names in the spatial and 2018 dataframe. Create a column called \"similiarity\"\n",
    "#that reports the score of the most similar names between the two. \n",
    "name_geo = []\n",
    "similarity = []\n",
    "for i in df_2018.name:\n",
    "        ratio = process.extract(i, geo.name, limit=1)\n",
    "        name_geo.append(ratio[0][0])\n",
    "        similarity.append(ratio[0][1])\n",
    "df_2018['name_geo'] = pd.Series(name_geo)\n",
    "df_2018['name_geo'] = df_2018['name_geo']\n",
    "df_2018['similarity'] = pd.Series(similarity)\n",
    "df_2018 = df_2018.sort_values(by=['similarity'], ascending=True)\n",
    "df_2018.head(n=8)"
   ]
  },
  {
   "cell_type": "code",
   "execution_count": 8,
   "id": "39287b67",
   "metadata": {},
   "outputs": [
    {
     "data": {
      "text/html": [
       "<div>\n",
       "<style scoped>\n",
       "    .dataframe tbody tr th:only-of-type {\n",
       "        vertical-align: middle;\n",
       "    }\n",
       "\n",
       "    .dataframe tbody tr th {\n",
       "        vertical-align: top;\n",
       "    }\n",
       "\n",
       "    .dataframe thead th {\n",
       "        text-align: right;\n",
       "    }\n",
       "</style>\n",
       "<table border=\"1\" class=\"dataframe\">\n",
       "  <thead>\n",
       "    <tr style=\"text-align: right;\">\n",
       "      <th></th>\n",
       "      <th>branch</th>\n",
       "      <th>name</th>\n",
       "      <th>state</th>\n",
       "      <th>date</th>\n",
       "      <th>number_systems_tested</th>\n",
       "      <th>number_above_EPA_LHA</th>\n",
       "      <th>results_raw</th>\n",
       "      <th>actions_as_of_August_31_2017</th>\n",
       "      <th>planned_actions_to_reduce</th>\n",
       "      <th>purveyor</th>\n",
       "      <th>on_or_off_base</th>\n",
       "      <th>results</th>\n",
       "      <th>analyte</th>\n",
       "      <th>name_geo</th>\n",
       "      <th>similarity</th>\n",
       "    </tr>\n",
       "  </thead>\n",
       "  <tbody>\n",
       "    <tr>\n",
       "      <th>0</th>\n",
       "      <td>USMC</td>\n",
       "      <td>MCB CAMP PENDLETON SOUTH</td>\n",
       "      <td>California</td>\n",
       "      <td>2017</td>\n",
       "      <td>1</td>\n",
       "      <td>1</td>\n",
       "      <td>77</td>\n",
       "      <td>One sample exceeded the PFOS/PFOA combined Hea...</td>\n",
       "      <td>Installation will continue to monitor the system.</td>\n",
       "      <td>DOD</td>\n",
       "      <td>on</td>\n",
       "      <td>77.0</td>\n",
       "      <td>NaN</td>\n",
       "      <td>CAMP PENDLETON CA MCB</td>\n",
       "      <td>87</td>\n",
       "    </tr>\n",
       "    <tr>\n",
       "      <th>1</th>\n",
       "      <td>Navy - BRAC</td>\n",
       "      <td>AGANA</td>\n",
       "      <td>Guam</td>\n",
       "      <td>2017</td>\n",
       "      <td>12</td>\n",
       "      <td>5</td>\n",
       "      <td>88 - 410</td>\n",
       "      <td>Sampling conducted by Guam Waterworks Authorit...</td>\n",
       "      <td>NaN</td>\n",
       "      <td>non-DOD</td>\n",
       "      <td>off</td>\n",
       "      <td>410.0</td>\n",
       "      <td>NaN</td>\n",
       "      <td>GUAM AGANA NAS</td>\n",
       "      <td>90</td>\n",
       "    </tr>\n",
       "    <tr>\n",
       "      <th>2</th>\n",
       "      <td>Army</td>\n",
       "      <td>USAG RED CLOUD, KR: CAMP STANLEY</td>\n",
       "      <td>South Korea</td>\n",
       "      <td>2017</td>\n",
       "      <td>1</td>\n",
       "      <td>1</td>\n",
       "      <td>PFOA + PFOS combined = 80- 1,061</td>\n",
       "      <td>Initial, confirmatory and subsequent sampling ...</td>\n",
       "      <td>Continue to use Army system wells producing wa...</td>\n",
       "      <td>DOD</td>\n",
       "      <td>on</td>\n",
       "      <td>1061.0</td>\n",
       "      <td>PFOA+PFOS</td>\n",
       "      <td>CAMP STANLEY</td>\n",
       "      <td>90</td>\n",
       "    </tr>\n",
       "    <tr>\n",
       "      <th>3</th>\n",
       "      <td>Air Force - ANG</td>\n",
       "      <td>NEW CASTLE ANGB 166TH</td>\n",
       "      <td>Delaware</td>\n",
       "      <td>2017</td>\n",
       "      <td>1</td>\n",
       "      <td>1</td>\n",
       "      <td>140-1800 ppt (PFOS+PFOA)</td>\n",
       "      <td>Artesian Water Company discontinued the use of...</td>\n",
       "      <td>Supplier took actions consistent with AF policy</td>\n",
       "      <td>non-DOD</td>\n",
       "      <td>on</td>\n",
       "      <td>1800.0</td>\n",
       "      <td>PFOA+PFOS</td>\n",
       "      <td>NEW CASTLE</td>\n",
       "      <td>90</td>\n",
       "    </tr>\n",
       "    <tr>\n",
       "      <th>4</th>\n",
       "      <td>Army</td>\n",
       "      <td>JB LEWIS-MCCHORD: FORT LEWIS CANTONMENT</td>\n",
       "      <td>Washington</td>\n",
       "      <td>2017</td>\n",
       "      <td>4</td>\n",
       "      <td>4</td>\n",
       "      <td>Golf Course: PFOA + PFOS combined = 76-78 JBLM...</td>\n",
       "      <td>Initial, confirmatory and subsequent sampling ...</td>\n",
       "      <td>Award contract to install GAC treatment units ...</td>\n",
       "      <td>DOD</td>\n",
       "      <td>on</td>\n",
       "      <td>250.0</td>\n",
       "      <td>PFOA+PFOS</td>\n",
       "      <td>JB LEWIS MCCHORD</td>\n",
       "      <td>90</td>\n",
       "    </tr>\n",
       "  </tbody>\n",
       "</table>\n",
       "</div>"
      ],
      "text/plain": [
       "            branch                                     name        state  \\\n",
       "0             USMC                 MCB CAMP PENDLETON SOUTH   California   \n",
       "1      Navy - BRAC                                    AGANA         Guam   \n",
       "2             Army         USAG RED CLOUD, KR: CAMP STANLEY  South Korea   \n",
       "3  Air Force - ANG                    NEW CASTLE ANGB 166TH     Delaware   \n",
       "4             Army  JB LEWIS-MCCHORD: FORT LEWIS CANTONMENT   Washington   \n",
       "\n",
       "   date number_systems_tested number_above_EPA_LHA  \\\n",
       "0  2017                     1                    1   \n",
       "1  2017                    12                    5   \n",
       "2  2017                     1                    1   \n",
       "3  2017                     1                    1   \n",
       "4  2017                     4                    4   \n",
       "\n",
       "                                         results_raw  \\\n",
       "0                                                 77   \n",
       "1                                           88 - 410   \n",
       "2                   PFOA + PFOS combined = 80- 1,061   \n",
       "3                           140-1800 ppt (PFOS+PFOA)   \n",
       "4  Golf Course: PFOA + PFOS combined = 76-78 JBLM...   \n",
       "\n",
       "                        actions_as_of_August_31_2017  \\\n",
       "0  One sample exceeded the PFOS/PFOA combined Hea...   \n",
       "1  Sampling conducted by Guam Waterworks Authorit...   \n",
       "2  Initial, confirmatory and subsequent sampling ...   \n",
       "3  Artesian Water Company discontinued the use of...   \n",
       "4  Initial, confirmatory and subsequent sampling ...   \n",
       "\n",
       "                           planned_actions_to_reduce purveyor on_or_off_base  \\\n",
       "0  Installation will continue to monitor the system.      DOD             on   \n",
       "1                                                NaN  non-DOD            off   \n",
       "2  Continue to use Army system wells producing wa...      DOD             on   \n",
       "3    Supplier took actions consistent with AF policy  non-DOD             on   \n",
       "4  Award contract to install GAC treatment units ...      DOD             on   \n",
       "\n",
       "   results    analyte               name_geo  similarity  \n",
       "0     77.0        NaN  CAMP PENDLETON CA MCB          87  \n",
       "1    410.0        NaN         GUAM AGANA NAS          90  \n",
       "2   1061.0  PFOA+PFOS           CAMP STANLEY          90  \n",
       "3   1800.0  PFOA+PFOS             NEW CASTLE          90  \n",
       "4    250.0  PFOA+PFOS       JB LEWIS MCCHORD          90  "
      ]
     },
     "execution_count": 8,
     "metadata": {},
     "output_type": "execute_result"
    }
   ],
   "source": [
    "#only keep rows with a similarity match greater than or equal to 87.\n",
    "#After visual inspection, anything less than 87 resulted in a poor match between installation names. \n",
    "df_2018_87 = df_2018[df_2018[\"similarity\"] >= 87]\n",
    "df_2018_87 = df_2018_87.reset_index(drop=True)\n",
    "df_2018_87.head()"
   ]
  },
  {
   "cell_type": "code",
   "execution_count": 9,
   "id": "0fc492f6",
   "metadata": {},
   "outputs": [
    {
     "data": {
      "text/html": [
       "<div>\n",
       "<style scoped>\n",
       "    .dataframe tbody tr th:only-of-type {\n",
       "        vertical-align: middle;\n",
       "    }\n",
       "\n",
       "    .dataframe tbody tr th {\n",
       "        vertical-align: top;\n",
       "    }\n",
       "\n",
       "    .dataframe thead th {\n",
       "        text-align: right;\n",
       "    }\n",
       "</style>\n",
       "<table border=\"1\" class=\"dataframe\">\n",
       "  <thead>\n",
       "    <tr style=\"text-align: right;\">\n",
       "      <th></th>\n",
       "      <th>name_geo</th>\n",
       "      <th>latitude</th>\n",
       "      <th>longitude</th>\n",
       "    </tr>\n",
       "  </thead>\n",
       "  <tbody>\n",
       "    <tr>\n",
       "      <th>0</th>\n",
       "      <td>AAOF BLAIR HANGAR</td>\n",
       "      <td>17.725062</td>\n",
       "      <td>-64.782945</td>\n",
       "    </tr>\n",
       "    <tr>\n",
       "      <th>1</th>\n",
       "      <td>AASF #1 R W SHEPHERD HOPE HULL</td>\n",
       "      <td>32.287216</td>\n",
       "      <td>-86.394073</td>\n",
       "    </tr>\n",
       "    <tr>\n",
       "      <th>2</th>\n",
       "      <td>AASF #2 BIRMINGHAM</td>\n",
       "      <td>33.572333</td>\n",
       "      <td>-86.750542</td>\n",
       "    </tr>\n",
       "    <tr>\n",
       "      <th>3</th>\n",
       "      <td>AASF #2 TN</td>\n",
       "      <td>35.821234</td>\n",
       "      <td>-83.994949</td>\n",
       "    </tr>\n",
       "    <tr>\n",
       "      <th>4</th>\n",
       "      <td>AASF #2 WA</td>\n",
       "      <td>47.618166</td>\n",
       "      <td>-117.641352</td>\n",
       "    </tr>\n",
       "  </tbody>\n",
       "</table>\n",
       "</div>"
      ],
      "text/plain": [
       "                         name_geo   latitude   longitude\n",
       "0               AAOF BLAIR HANGAR  17.725062  -64.782945\n",
       "1  AASF #1 R W SHEPHERD HOPE HULL  32.287216  -86.394073\n",
       "2              AASF #2 BIRMINGHAM  33.572333  -86.750542\n",
       "3                      AASF #2 TN  35.821234  -83.994949\n",
       "4                      AASF #2 WA  47.618166 -117.641352"
      ]
     },
     "execution_count": 9,
     "metadata": {},
     "output_type": "execute_result"
    }
   ],
   "source": [
    "#select and rename the columns from the spatial dataframe that need to be attached to the 2018 dataframe\n",
    "geo_select = geo[['name','latitude','longitude']]\n",
    "geo_select = geo_select.rename(columns = {'name': 'name_geo'})\n",
    "\n",
    "geo_select.head()"
   ]
  },
  {
   "cell_type": "code",
   "execution_count": 10,
   "id": "072a5638",
   "metadata": {},
   "outputs": [
    {
     "data": {
      "text/html": [
       "<div>\n",
       "<style scoped>\n",
       "    .dataframe tbody tr th:only-of-type {\n",
       "        vertical-align: middle;\n",
       "    }\n",
       "\n",
       "    .dataframe tbody tr th {\n",
       "        vertical-align: top;\n",
       "    }\n",
       "\n",
       "    .dataframe thead th {\n",
       "        text-align: right;\n",
       "    }\n",
       "</style>\n",
       "<table border=\"1\" class=\"dataframe\">\n",
       "  <thead>\n",
       "    <tr style=\"text-align: right;\">\n",
       "      <th></th>\n",
       "      <th>branch</th>\n",
       "      <th>name</th>\n",
       "      <th>state</th>\n",
       "      <th>date</th>\n",
       "      <th>number_systems_tested</th>\n",
       "      <th>number_above_EPA_LHA</th>\n",
       "      <th>results_raw</th>\n",
       "      <th>actions_as_of_August_31_2017</th>\n",
       "      <th>planned_actions_to_reduce</th>\n",
       "      <th>purveyor</th>\n",
       "      <th>on_or_off_base</th>\n",
       "      <th>results</th>\n",
       "      <th>analyte</th>\n",
       "      <th>name_geo</th>\n",
       "      <th>similarity</th>\n",
       "      <th>latitude</th>\n",
       "      <th>longitude</th>\n",
       "    </tr>\n",
       "  </thead>\n",
       "  <tbody>\n",
       "    <tr>\n",
       "      <th>0</th>\n",
       "      <td>Navy - BRAC</td>\n",
       "      <td>AGANA</td>\n",
       "      <td>Guam</td>\n",
       "      <td>2017</td>\n",
       "      <td>12</td>\n",
       "      <td>5</td>\n",
       "      <td>88 - 410</td>\n",
       "      <td>Sampling conducted by Guam Waterworks Authorit...</td>\n",
       "      <td>NaN</td>\n",
       "      <td>non-DOD</td>\n",
       "      <td>off</td>\n",
       "      <td>410.0</td>\n",
       "      <td>NaN</td>\n",
       "      <td>GUAM AGANA NAS</td>\n",
       "      <td>90</td>\n",
       "      <td>13.473339</td>\n",
       "      <td>144.824168</td>\n",
       "    </tr>\n",
       "    <tr>\n",
       "      <th>1</th>\n",
       "      <td>Air Force - ANG</td>\n",
       "      <td>BARNES MUNICIPAL</td>\n",
       "      <td>Massachusetts</td>\n",
       "      <td>2017</td>\n",
       "      <td>1</td>\n",
       "      <td>1</td>\n",
       "      <td>43-160 ppt (PFOS+PFOA)</td>\n",
       "      <td>Base obtains water from Westfield Water Dept. ...</td>\n",
       "      <td>Water sources will continue to be sampled for ...</td>\n",
       "      <td>non-DOD</td>\n",
       "      <td>on</td>\n",
       "      <td>160.0</td>\n",
       "      <td>PFOA+PFOS</td>\n",
       "      <td>BARNES MUNICIPAL</td>\n",
       "      <td>100</td>\n",
       "      <td>42.168377</td>\n",
       "      <td>-72.717661</td>\n",
       "    </tr>\n",
       "    <tr>\n",
       "      <th>2</th>\n",
       "      <td>Navy</td>\n",
       "      <td>BARROW AK NARL</td>\n",
       "      <td>Alaska</td>\n",
       "      <td>2017</td>\n",
       "      <td>5</td>\n",
       "      <td>5</td>\n",
       "      <td>144 - 262</td>\n",
       "      <td>*Surface water (Imikpuk Lake) sampled; serves ...</td>\n",
       "      <td>Continue investigation</td>\n",
       "      <td>non-DOD</td>\n",
       "      <td>off</td>\n",
       "      <td>262.0</td>\n",
       "      <td>NaN</td>\n",
       "      <td>BARROW AK NARL</td>\n",
       "      <td>100</td>\n",
       "      <td>71.321729</td>\n",
       "      <td>-156.647955</td>\n",
       "    </tr>\n",
       "    <tr>\n",
       "      <th>3</th>\n",
       "      <td>Army</td>\n",
       "      <td>BELMONT ARMORY</td>\n",
       "      <td>Michigan</td>\n",
       "      <td>2017</td>\n",
       "      <td>1</td>\n",
       "      <td>1</td>\n",
       "      <td>86-96.8</td>\n",
       "      <td>MIARNG spoke with potential responsible party ...</td>\n",
       "      <td>MIARNG is waiting for response from PRP, explo...</td>\n",
       "      <td>DOD</td>\n",
       "      <td>on</td>\n",
       "      <td>96.8</td>\n",
       "      <td>NaN</td>\n",
       "      <td>BELMONT ARMORY</td>\n",
       "      <td>100</td>\n",
       "      <td>35.245984</td>\n",
       "      <td>-81.019782</td>\n",
       "    </tr>\n",
       "    <tr>\n",
       "      <th>4</th>\n",
       "      <td>Air Force - ANG</td>\n",
       "      <td>BIDDLE ANGB FORMERLY HORSHAM/WILLOW GROVE ANG</td>\n",
       "      <td>Pennsylvania</td>\n",
       "      <td>2017</td>\n",
       "      <td>2</td>\n",
       "      <td>2</td>\n",
       "      <td>82-1870 ppt (PFOS+PFOA)</td>\n",
       "      <td>Public Wells: Seven (7) impacted DW wells take...</td>\n",
       "      <td>Public Wells: Carbon filtration construction c...</td>\n",
       "      <td>non-DOD</td>\n",
       "      <td>off</td>\n",
       "      <td>1870.0</td>\n",
       "      <td>PFOA+PFOS</td>\n",
       "      <td>BIDDLE ANGB (FORMERLY HORSHAM/WILLOW GROVE ANG)</td>\n",
       "      <td>99</td>\n",
       "      <td>40.208241</td>\n",
       "      <td>-75.148506</td>\n",
       "    </tr>\n",
       "  </tbody>\n",
       "</table>\n",
       "</div>"
      ],
      "text/plain": [
       "            branch                                           name  \\\n",
       "0      Navy - BRAC                                          AGANA   \n",
       "1  Air Force - ANG                               BARNES MUNICIPAL   \n",
       "2             Navy                                 BARROW AK NARL   \n",
       "3             Army                                 BELMONT ARMORY   \n",
       "4  Air Force - ANG  BIDDLE ANGB FORMERLY HORSHAM/WILLOW GROVE ANG   \n",
       "\n",
       "           state  date number_systems_tested number_above_EPA_LHA  \\\n",
       "0           Guam  2017                    12                    5   \n",
       "1  Massachusetts  2017                     1                    1   \n",
       "2         Alaska  2017                     5                    5   \n",
       "3       Michigan  2017                     1                    1   \n",
       "4   Pennsylvania  2017                     2                    2   \n",
       "\n",
       "               results_raw                       actions_as_of_August_31_2017  \\\n",
       "0                 88 - 410  Sampling conducted by Guam Waterworks Authorit...   \n",
       "1   43-160 ppt (PFOS+PFOA)  Base obtains water from Westfield Water Dept. ...   \n",
       "2                144 - 262  *Surface water (Imikpuk Lake) sampled; serves ...   \n",
       "3                  86-96.8  MIARNG spoke with potential responsible party ...   \n",
       "4  82-1870 ppt (PFOS+PFOA)  Public Wells: Seven (7) impacted DW wells take...   \n",
       "\n",
       "                           planned_actions_to_reduce purveyor on_or_off_base  \\\n",
       "0                                                NaN  non-DOD            off   \n",
       "1  Water sources will continue to be sampled for ...  non-DOD             on   \n",
       "2                             Continue investigation  non-DOD            off   \n",
       "3  MIARNG is waiting for response from PRP, explo...      DOD             on   \n",
       "4  Public Wells: Carbon filtration construction c...  non-DOD            off   \n",
       "\n",
       "   results    analyte                                         name_geo  \\\n",
       "0    410.0        NaN                                   GUAM AGANA NAS   \n",
       "1    160.0  PFOA+PFOS                                 BARNES MUNICIPAL   \n",
       "2    262.0        NaN                                   BARROW AK NARL   \n",
       "3     96.8        NaN                                   BELMONT ARMORY   \n",
       "4   1870.0  PFOA+PFOS  BIDDLE ANGB (FORMERLY HORSHAM/WILLOW GROVE ANG)   \n",
       "\n",
       "   similarity   latitude   longitude  \n",
       "0          90  13.473339  144.824168  \n",
       "1         100  42.168377  -72.717661  \n",
       "2         100  71.321729 -156.647955  \n",
       "3         100  35.245984  -81.019782  \n",
       "4          99  40.208241  -75.148506  "
      ]
     },
     "execution_count": 10,
     "metadata": {},
     "output_type": "execute_result"
    }
   ],
   "source": [
    "#merged 2018 dataframe with similarity scores >=87 and the selected dataframe columns. This attaches the spatial data\n",
    "#to the 2018 dataframe if there was a good name match. \n",
    "df_2018_87_geo = df_2018_87.merge(geo_select, on='name_geo', how='left')\n",
    "df_2018_87_geo  = df_2018_87_geo.sort_values('name', ascending=True)\n",
    "df_2018_87_geo = df_2018_87_geo.reset_index(drop=True)\n",
    "df_2018_87_geo.head()"
   ]
  },
  {
   "cell_type": "code",
   "execution_count": 11,
   "id": "b5b40bf7",
   "metadata": {},
   "outputs": [
    {
     "data": {
      "text/plain": [
       "47"
      ]
     },
     "execution_count": 11,
     "metadata": {},
     "output_type": "execute_result"
    }
   ],
   "source": [
    "unique = df_2018_87_geo[\"name\"].nunique()\n",
    "unique"
   ]
  },
  {
   "cell_type": "code",
   "execution_count": 12,
   "id": "a3747f21",
   "metadata": {},
   "outputs": [
    {
     "data": {
      "text/html": [
       "<div>\n",
       "<style scoped>\n",
       "    .dataframe tbody tr th:only-of-type {\n",
       "        vertical-align: middle;\n",
       "    }\n",
       "\n",
       "    .dataframe tbody tr th {\n",
       "        vertical-align: top;\n",
       "    }\n",
       "\n",
       "    .dataframe thead th {\n",
       "        text-align: right;\n",
       "    }\n",
       "</style>\n",
       "<table border=\"1\" class=\"dataframe\">\n",
       "  <thead>\n",
       "    <tr style=\"text-align: right;\">\n",
       "      <th></th>\n",
       "      <th>branch</th>\n",
       "      <th>name</th>\n",
       "      <th>state</th>\n",
       "      <th>date</th>\n",
       "      <th>number_systems_tested</th>\n",
       "      <th>number_above_EPA_LHA</th>\n",
       "      <th>results_raw</th>\n",
       "      <th>actions_as_of_August_31_2017</th>\n",
       "      <th>planned_actions_to_reduce</th>\n",
       "      <th>purveyor</th>\n",
       "      <th>on_or_off_base</th>\n",
       "      <th>results</th>\n",
       "      <th>analyte</th>\n",
       "      <th>name_geo</th>\n",
       "      <th>similarity</th>\n",
       "      <th>latitude</th>\n",
       "      <th>longitude</th>\n",
       "    </tr>\n",
       "  </thead>\n",
       "  <tbody>\n",
       "    <tr>\n",
       "      <th>0</th>\n",
       "      <td>Army</td>\n",
       "      <td>81ST RSC: E. EARLE RIVES AFRC</td>\n",
       "      <td>North Carolina</td>\n",
       "      <td>2017</td>\n",
       "      <td>1</td>\n",
       "      <td>1</td>\n",
       "      <td>&lt;40-90</td>\n",
       "      <td>PFOS per 2014 Consumer Confidence Report. The ...</td>\n",
       "      <td>NaN</td>\n",
       "      <td>non-DOD</td>\n",
       "      <td>on</td>\n",
       "      <td>90.0</td>\n",
       "      <td>NaN</td>\n",
       "      <td>NMC DET EARLE</td>\n",
       "      <td>86</td>\n",
       "      <td>NaN</td>\n",
       "      <td>NaN</td>\n",
       "    </tr>\n",
       "    <tr>\n",
       "      <th>1</th>\n",
       "      <td>Navy - BRAC</td>\n",
       "      <td>AGANA</td>\n",
       "      <td>Guam</td>\n",
       "      <td>2017</td>\n",
       "      <td>12</td>\n",
       "      <td>5</td>\n",
       "      <td>88 - 410</td>\n",
       "      <td>Sampling conducted by Guam Waterworks Authorit...</td>\n",
       "      <td>NaN</td>\n",
       "      <td>non-DOD</td>\n",
       "      <td>off</td>\n",
       "      <td>410.0</td>\n",
       "      <td>NaN</td>\n",
       "      <td>GUAM AGANA NAS</td>\n",
       "      <td>90</td>\n",
       "      <td>13.473339</td>\n",
       "      <td>144.824168</td>\n",
       "    </tr>\n",
       "    <tr>\n",
       "      <th>2</th>\n",
       "      <td>Air Force - ANG</td>\n",
       "      <td>BARNES MUNICIPAL</td>\n",
       "      <td>Massachusetts</td>\n",
       "      <td>2017</td>\n",
       "      <td>1</td>\n",
       "      <td>1</td>\n",
       "      <td>43-160 ppt (PFOS+PFOA)</td>\n",
       "      <td>Base obtains water from Westfield Water Dept. ...</td>\n",
       "      <td>Water sources will continue to be sampled for ...</td>\n",
       "      <td>non-DOD</td>\n",
       "      <td>on</td>\n",
       "      <td>160.0</td>\n",
       "      <td>PFOA+PFOS</td>\n",
       "      <td>BARNES MUNICIPAL</td>\n",
       "      <td>100</td>\n",
       "      <td>42.168377</td>\n",
       "      <td>-72.717661</td>\n",
       "    </tr>\n",
       "    <tr>\n",
       "      <th>3</th>\n",
       "      <td>Navy</td>\n",
       "      <td>BARROW AK NARL</td>\n",
       "      <td>Alaska</td>\n",
       "      <td>2017</td>\n",
       "      <td>5</td>\n",
       "      <td>5</td>\n",
       "      <td>144 - 262</td>\n",
       "      <td>*Surface water (Imikpuk Lake) sampled; serves ...</td>\n",
       "      <td>Continue investigation</td>\n",
       "      <td>non-DOD</td>\n",
       "      <td>off</td>\n",
       "      <td>262.0</td>\n",
       "      <td>NaN</td>\n",
       "      <td>BARROW AK NARL</td>\n",
       "      <td>100</td>\n",
       "      <td>71.321729</td>\n",
       "      <td>-156.647955</td>\n",
       "    </tr>\n",
       "    <tr>\n",
       "      <th>4</th>\n",
       "      <td>Army</td>\n",
       "      <td>BELMONT ARMORY</td>\n",
       "      <td>Michigan</td>\n",
       "      <td>2017</td>\n",
       "      <td>1</td>\n",
       "      <td>1</td>\n",
       "      <td>86-96.8</td>\n",
       "      <td>MIARNG spoke with potential responsible party ...</td>\n",
       "      <td>MIARNG is waiting for response from PRP, explo...</td>\n",
       "      <td>DOD</td>\n",
       "      <td>on</td>\n",
       "      <td>96.8</td>\n",
       "      <td>NaN</td>\n",
       "      <td>BELMONT ARMORY</td>\n",
       "      <td>100</td>\n",
       "      <td>35.245984</td>\n",
       "      <td>-81.019782</td>\n",
       "    </tr>\n",
       "  </tbody>\n",
       "</table>\n",
       "</div>"
      ],
      "text/plain": [
       "            branch                           name           state  date  \\\n",
       "0             Army  81ST RSC: E. EARLE RIVES AFRC  North Carolina  2017   \n",
       "1      Navy - BRAC                          AGANA            Guam  2017   \n",
       "2  Air Force - ANG               BARNES MUNICIPAL   Massachusetts  2017   \n",
       "3             Navy                 BARROW AK NARL          Alaska  2017   \n",
       "4             Army                 BELMONT ARMORY        Michigan  2017   \n",
       "\n",
       "  number_systems_tested number_above_EPA_LHA             results_raw  \\\n",
       "0                     1                    1                  <40-90   \n",
       "1                    12                    5                88 - 410   \n",
       "2                     1                    1  43-160 ppt (PFOS+PFOA)   \n",
       "3                     5                    5               144 - 262   \n",
       "4                     1                    1                 86-96.8   \n",
       "\n",
       "                        actions_as_of_August_31_2017  \\\n",
       "0  PFOS per 2014 Consumer Confidence Report. The ...   \n",
       "1  Sampling conducted by Guam Waterworks Authorit...   \n",
       "2  Base obtains water from Westfield Water Dept. ...   \n",
       "3  *Surface water (Imikpuk Lake) sampled; serves ...   \n",
       "4  MIARNG spoke with potential responsible party ...   \n",
       "\n",
       "                           planned_actions_to_reduce purveyor on_or_off_base  \\\n",
       "0                                                NaN  non-DOD             on   \n",
       "1                                                NaN  non-DOD            off   \n",
       "2  Water sources will continue to be sampled for ...  non-DOD             on   \n",
       "3                             Continue investigation  non-DOD            off   \n",
       "4  MIARNG is waiting for response from PRP, explo...      DOD             on   \n",
       "\n",
       "   results    analyte          name_geo  similarity   latitude   longitude  \n",
       "0     90.0        NaN     NMC DET EARLE          86        NaN         NaN  \n",
       "1    410.0        NaN    GUAM AGANA NAS          90  13.473339  144.824168  \n",
       "2    160.0  PFOA+PFOS  BARNES MUNICIPAL         100  42.168377  -72.717661  \n",
       "3    262.0        NaN    BARROW AK NARL         100  71.321729 -156.647955  \n",
       "4     96.8        NaN    BELMONT ARMORY         100  35.245984  -81.019782  "
      ]
     },
     "execution_count": 12,
     "metadata": {},
     "output_type": "execute_result"
    }
   ],
   "source": [
    "#add data that did not have a spatial match to spatial df\n",
    "df_2018_all_geo = pd.concat([df_2018_87_geo, df_2018], join='outer')\n",
    "df_2018_all_geo = df_2018_all_geo.sort_values(['latitude'],ascending=False).drop_duplicates('name')\n",
    "df_2018_all_geo  = df_2018_all_geo.sort_values('name', ascending=True)\n",
    "df_2018_all_geo = df_2018_all_geo.reset_index(drop=True)\n",
    "df_2018_all_geo.head()"
   ]
  },
  {
   "cell_type": "code",
   "execution_count": 13,
   "id": "40221aec",
   "metadata": {},
   "outputs": [
    {
     "data": {
      "text/html": [
       "<div>\n",
       "<style scoped>\n",
       "    .dataframe tbody tr th:only-of-type {\n",
       "        vertical-align: middle;\n",
       "    }\n",
       "\n",
       "    .dataframe tbody tr th {\n",
       "        vertical-align: top;\n",
       "    }\n",
       "\n",
       "    .dataframe thead th {\n",
       "        text-align: right;\n",
       "    }\n",
       "</style>\n",
       "<table border=\"1\" class=\"dataframe\">\n",
       "  <thead>\n",
       "    <tr style=\"text-align: right;\">\n",
       "      <th></th>\n",
       "      <th>state</th>\n",
       "      <th>branch</th>\n",
       "      <th>name</th>\n",
       "      <th>date</th>\n",
       "      <th>results</th>\n",
       "      <th>purveyor</th>\n",
       "      <th>on_or_off_base</th>\n",
       "      <th>analyte</th>\n",
       "      <th>longitude</th>\n",
       "      <th>latitude</th>\n",
       "    </tr>\n",
       "  </thead>\n",
       "  <tbody>\n",
       "    <tr>\n",
       "      <th>0</th>\n",
       "      <td>North Carolina</td>\n",
       "      <td>Army</td>\n",
       "      <td>81ST RSC: E. EARLE RIVES AFRC</td>\n",
       "      <td>2017</td>\n",
       "      <td>90.0</td>\n",
       "      <td>non-DOD</td>\n",
       "      <td>on</td>\n",
       "      <td>NaN</td>\n",
       "      <td>NaN</td>\n",
       "      <td>NaN</td>\n",
       "    </tr>\n",
       "    <tr>\n",
       "      <th>1</th>\n",
       "      <td>Guam</td>\n",
       "      <td>Navy - BRAC</td>\n",
       "      <td>AGANA</td>\n",
       "      <td>2017</td>\n",
       "      <td>410.0</td>\n",
       "      <td>non-DOD</td>\n",
       "      <td>off</td>\n",
       "      <td>NaN</td>\n",
       "      <td>144.824168</td>\n",
       "      <td>13.473339</td>\n",
       "    </tr>\n",
       "    <tr>\n",
       "      <th>2</th>\n",
       "      <td>Massachusetts</td>\n",
       "      <td>Air Force - ANG</td>\n",
       "      <td>BARNES MUNICIPAL</td>\n",
       "      <td>2017</td>\n",
       "      <td>160.0</td>\n",
       "      <td>non-DOD</td>\n",
       "      <td>on</td>\n",
       "      <td>PFOA+PFOS</td>\n",
       "      <td>-72.717661</td>\n",
       "      <td>42.168377</td>\n",
       "    </tr>\n",
       "    <tr>\n",
       "      <th>3</th>\n",
       "      <td>Alaska</td>\n",
       "      <td>Navy</td>\n",
       "      <td>BARROW AK NARL</td>\n",
       "      <td>2017</td>\n",
       "      <td>262.0</td>\n",
       "      <td>non-DOD</td>\n",
       "      <td>off</td>\n",
       "      <td>NaN</td>\n",
       "      <td>-156.647955</td>\n",
       "      <td>71.321729</td>\n",
       "    </tr>\n",
       "    <tr>\n",
       "      <th>4</th>\n",
       "      <td>Michigan</td>\n",
       "      <td>Army</td>\n",
       "      <td>BELMONT ARMORY</td>\n",
       "      <td>2017</td>\n",
       "      <td>96.8</td>\n",
       "      <td>DOD</td>\n",
       "      <td>on</td>\n",
       "      <td>NaN</td>\n",
       "      <td>-81.019782</td>\n",
       "      <td>35.245984</td>\n",
       "    </tr>\n",
       "  </tbody>\n",
       "</table>\n",
       "</div>"
      ],
      "text/plain": [
       "            state           branch                           name  date  \\\n",
       "0  North Carolina             Army  81ST RSC: E. EARLE RIVES AFRC  2017   \n",
       "1            Guam      Navy - BRAC                          AGANA  2017   \n",
       "2   Massachusetts  Air Force - ANG               BARNES MUNICIPAL  2017   \n",
       "3          Alaska             Navy                 BARROW AK NARL  2017   \n",
       "4        Michigan             Army                 BELMONT ARMORY  2017   \n",
       "\n",
       "   results purveyor on_or_off_base    analyte   longitude   latitude  \n",
       "0     90.0  non-DOD             on        NaN         NaN        NaN  \n",
       "1    410.0  non-DOD            off        NaN  144.824168  13.473339  \n",
       "2    160.0  non-DOD             on  PFOA+PFOS  -72.717661  42.168377  \n",
       "3    262.0  non-DOD            off        NaN -156.647955  71.321729  \n",
       "4     96.8      DOD             on        NaN  -81.019782  35.245984  "
      ]
     },
     "execution_count": 13,
     "metadata": {},
     "output_type": "execute_result"
    }
   ],
   "source": [
    "df_2018_geo = df_2018_all_geo\n",
    "#select only key columns for ArcGIS map\n",
    "df_2018_geo = df_2018_geo[['state',\n",
    "                            'branch',  \n",
    "                            'name',\n",
    "                            'date',\n",
    "                            'results',\n",
    "                            'purveyor',\n",
    "                            'on_or_off_base',\n",
    "                            'analyte',\n",
    "                            'longitude',\n",
    "                            'latitude']]\n",
    "\n",
    "df_2018_geo.head()"
   ]
  },
  {
   "cell_type": "code",
   "execution_count": 14,
   "id": "8856f221",
   "metadata": {},
   "outputs": [
    {
     "data": {
      "text/plain": [
       "(51, 10)"
      ]
     },
     "execution_count": 14,
     "metadata": {},
     "output_type": "execute_result"
    }
   ],
   "source": [
    "df_2018_geo.shape"
   ]
  },
  {
   "cell_type": "code",
   "execution_count": 15,
   "id": "6b5f5f6c",
   "metadata": {},
   "outputs": [
    {
     "data": {
      "text/plain": [
       "51"
      ]
     },
     "execution_count": 15,
     "metadata": {},
     "output_type": "execute_result"
    }
   ],
   "source": [
    "#calculate number of unique installations with spatial data\n",
    "unique = df_2018_geo[\"name\"].nunique()\n",
    "unique"
   ]
  },
  {
   "cell_type": "code",
   "execution_count": 16,
   "id": "f7845231",
   "metadata": {},
   "outputs": [],
   "source": [
    "#export 2018 geocoded data to csv to use in ArcGIS\n",
    "df_2018_geo.to_csv(\n",
    "r\"C:\\Users\\OITNYNWilsoS\\OneDrive - Department of Veterans Affairs\\PACT Act\\MET\\deliverables\\Jan_2024\\geo_max_PFAS_2017.csv\", float_format='{:f}'.format, encoding='utf-8', index=False)"
   ]
  },
  {
   "cell_type": "code",
   "execution_count": 18,
   "id": "fba6e2e5",
   "metadata": {
    "scrolled": false
   },
   "outputs": [
    {
     "data": {
      "application/vnd.plotly.v1+json": {
       "config": {
        "plotlyServerURL": "https://plot.ly"
       },
       "data": [
        {
         "geo": "geo",
         "hovertemplate": "<b>%{hovertext}</b><br><br>results=%{marker.size}<br>latitude=%{lat}<br>longitude=%{lon}<extra></extra>",
         "hovertext": [
          "81ST RSC: E. EARLE RIVES AFRC",
          "AGANA",
          "BARNES MUNICIPAL",
          "BARROW AK NARL",
          "BELMONT ARMORY",
          "BIDDLE ANGB FORMERLY HORSHAM/WILLOW GROVE ANG",
          "CAMP CARROLL",
          "CAMP WALKER",
          "DOVER AFB",
          "EIELSON AFB",
          "EL CAMPO",
          "ELLSWORTH AFB",
          "EWVRA SHEPHERD FIELD",
          "FAIRCHILD AFB",
          "FORT HUNTER LIGGETT",
          "FRANCIS S. GABRESKI",
          "FT. LEAVENWORTH",
          "HARRISBURG INTERNATIONAL AIRPORT",
          "JB LEWIS-MCCHORD: FORT LEWIS CANTONMENT",
          "JOINT BASE MCGUIRE-DIX-LAKEHURST",
          "KI SAWYER AFB",
          "KUNSAN AB",
          "MARCH AFB",
          "MATHER AFB",
          "MCB CAMP PENDLETON SOUTH",
          "MCLB BARSTOW",
          "MOUNTAIN HOME AFB",
          "MTC-H CAMP GRAYLING AIRFIELD INSTALLATION-WIDE PAI",
          "NEW BOSTON AIR FORCE STATION",
          "NEW CASTLE ANGB 166TH",
          "NMC DET EARLE",
          "NSF DIEGO GARCIA",
          "OCEANA VA NAS",
          "OTIS ANG JOINT BASE CAPE COD -MASSACHUSETTS MILITARY RESERVATION",
          "PEASE AFB",
          "PETERSON SPACE FORCE BASE",
          "PLATTSBURGH AFB",
          "PRESIDIO OF MONTEREY",
          "SEAL BEACH CA WPNSUPFAC",
          "SOTO CANO",
          "STEWART INTERNATIONAL AIRPORT",
          "USAG BENELUX - CASERNE DAUMERIE, BE",
          "USAG RED CLOUD, KR: CAMP RED CLOUD",
          "USAG RED CLOUD, KR: CAMP STANLEY",
          "WARMINSTER NAWC AD",
          "WHIDBEY IS WA NAS",
          "WHITING FLD FL NAS",
          "WILLOW GROVE NASJRB",
          "WILMINGTON ARMORY",
          "WRIGHT-PATTERSON AFB",
          "WURTSMITH AFB"
         ],
         "lat": [
          null,
          13.473339,
          42.168377,
          71.321729,
          35.245984,
          40.208241,
          35.996,
          35.8374,
          39.132289,
          64.665556,
          29.173393,
          44.14,
          39.404864,
          47.615002,
          35.955407,
          40.836874,
          39.36417,
          40.19122,
          47.054474,
          40.041267,
          46.342318,
          35.937932,
          33.898203,
          38.563659,
          33.361871,
          34.859366,
          43.05,
          44.630811,
          42.976111,
          39.685975,
          40.261405,
          null,
          36.815192,
          41.658201,
          43.080259,
          38.820337,
          44.683551,
          36.603254,
          33.750466,
          14.3825,
          41.501428,
          null,
          null,
          37.7208,
          40.204319,
          48.338638,
          30.712805,
          40.198518,
          39.571223,
          39.823069,
          44.45243
         ],
         "legendgroup": "",
         "lon": [
          null,
          144.824168,
          -72.717661,
          -156.647955,
          -81.019782,
          -75.148506,
          128.416,
          128.589648,
          -75.486514,
          -147.101389,
          -96.25306,
          -103.07,
          -77.985639,
          -117.658058,
          -121.25377,
          -72.643138,
          -94.918251,
          -76.747018,
          -122.552701,
          -74.584368,
          -87.38786,
          126.624755,
          -117.263728,
          -121.297211,
          -117.423732,
          -116.944444,
          -115.87,
          -84.777406,
          -71.694444,
          -75.598668,
          -74.147634,
          null,
          -76.031174,
          -70.521583,
          -70.821129,
          -104.696366,
          -73.447904,
          -121.912102,
          -118.064189,
          -87.621111,
          -74.084417,
          null,
          null,
          127.0967,
          -75.067753,
          -122.661501,
          -87.019983,
          -75.145664,
          -75.58383,
          -84.049489,
          -83.380475
         ],
         "marker": {
          "color": "red",
          "size": [
           90,
           410,
           160,
           262,
           96.8,
           1870,
           1066,
           789,
           91,
           2222,
           79,
           182,
           79,
           5700,
           120,
           530,
           649,
           103,
           250,
           1688,
           3651,
           85,
           168,
           193,
           77,
           103,
           105,
           188,
           83,
           1800,
           228,
           5849,
           4900,
           488,
           2500,
           7910,
           412,
           260,
           135,
           82.9,
           170,
           94,
           466,
           1061,
           1800,
           3823,
           259,
           8100,
           1800,
           235,
           2923
          ],
          "sizemode": "area",
          "sizeref": 20.25,
          "symbol": "circle"
         },
         "mode": "markers",
         "name": "",
         "showlegend": false,
         "type": "scattergeo"
        }
       ],
       "layout": {
        "geo": {
         "center": {},
         "domain": {
          "x": [
           0,
           1
          ],
          "y": [
           0,
           1
          ]
         }
        },
        "legend": {
         "itemsizing": "constant",
         "tracegroupgap": 0
        },
        "template": {
         "data": {
          "bar": [
           {
            "error_x": {
             "color": "#2a3f5f"
            },
            "error_y": {
             "color": "#2a3f5f"
            },
            "marker": {
             "line": {
              "color": "#E5ECF6",
              "width": 0.5
             },
             "pattern": {
              "fillmode": "overlay",
              "size": 10,
              "solidity": 0.2
             }
            },
            "type": "bar"
           }
          ],
          "barpolar": [
           {
            "marker": {
             "line": {
              "color": "#E5ECF6",
              "width": 0.5
             },
             "pattern": {
              "fillmode": "overlay",
              "size": 10,
              "solidity": 0.2
             }
            },
            "type": "barpolar"
           }
          ],
          "carpet": [
           {
            "aaxis": {
             "endlinecolor": "#2a3f5f",
             "gridcolor": "white",
             "linecolor": "white",
             "minorgridcolor": "white",
             "startlinecolor": "#2a3f5f"
            },
            "baxis": {
             "endlinecolor": "#2a3f5f",
             "gridcolor": "white",
             "linecolor": "white",
             "minorgridcolor": "white",
             "startlinecolor": "#2a3f5f"
            },
            "type": "carpet"
           }
          ],
          "choropleth": [
           {
            "colorbar": {
             "outlinewidth": 0,
             "ticks": ""
            },
            "type": "choropleth"
           }
          ],
          "contour": [
           {
            "colorbar": {
             "outlinewidth": 0,
             "ticks": ""
            },
            "colorscale": [
             [
              0,
              "#0d0887"
             ],
             [
              0.1111111111111111,
              "#46039f"
             ],
             [
              0.2222222222222222,
              "#7201a8"
             ],
             [
              0.3333333333333333,
              "#9c179e"
             ],
             [
              0.4444444444444444,
              "#bd3786"
             ],
             [
              0.5555555555555556,
              "#d8576b"
             ],
             [
              0.6666666666666666,
              "#ed7953"
             ],
             [
              0.7777777777777778,
              "#fb9f3a"
             ],
             [
              0.8888888888888888,
              "#fdca26"
             ],
             [
              1,
              "#f0f921"
             ]
            ],
            "type": "contour"
           }
          ],
          "contourcarpet": [
           {
            "colorbar": {
             "outlinewidth": 0,
             "ticks": ""
            },
            "type": "contourcarpet"
           }
          ],
          "heatmap": [
           {
            "colorbar": {
             "outlinewidth": 0,
             "ticks": ""
            },
            "colorscale": [
             [
              0,
              "#0d0887"
             ],
             [
              0.1111111111111111,
              "#46039f"
             ],
             [
              0.2222222222222222,
              "#7201a8"
             ],
             [
              0.3333333333333333,
              "#9c179e"
             ],
             [
              0.4444444444444444,
              "#bd3786"
             ],
             [
              0.5555555555555556,
              "#d8576b"
             ],
             [
              0.6666666666666666,
              "#ed7953"
             ],
             [
              0.7777777777777778,
              "#fb9f3a"
             ],
             [
              0.8888888888888888,
              "#fdca26"
             ],
             [
              1,
              "#f0f921"
             ]
            ],
            "type": "heatmap"
           }
          ],
          "heatmapgl": [
           {
            "colorbar": {
             "outlinewidth": 0,
             "ticks": ""
            },
            "colorscale": [
             [
              0,
              "#0d0887"
             ],
             [
              0.1111111111111111,
              "#46039f"
             ],
             [
              0.2222222222222222,
              "#7201a8"
             ],
             [
              0.3333333333333333,
              "#9c179e"
             ],
             [
              0.4444444444444444,
              "#bd3786"
             ],
             [
              0.5555555555555556,
              "#d8576b"
             ],
             [
              0.6666666666666666,
              "#ed7953"
             ],
             [
              0.7777777777777778,
              "#fb9f3a"
             ],
             [
              0.8888888888888888,
              "#fdca26"
             ],
             [
              1,
              "#f0f921"
             ]
            ],
            "type": "heatmapgl"
           }
          ],
          "histogram": [
           {
            "marker": {
             "pattern": {
              "fillmode": "overlay",
              "size": 10,
              "solidity": 0.2
             }
            },
            "type": "histogram"
           }
          ],
          "histogram2d": [
           {
            "colorbar": {
             "outlinewidth": 0,
             "ticks": ""
            },
            "colorscale": [
             [
              0,
              "#0d0887"
             ],
             [
              0.1111111111111111,
              "#46039f"
             ],
             [
              0.2222222222222222,
              "#7201a8"
             ],
             [
              0.3333333333333333,
              "#9c179e"
             ],
             [
              0.4444444444444444,
              "#bd3786"
             ],
             [
              0.5555555555555556,
              "#d8576b"
             ],
             [
              0.6666666666666666,
              "#ed7953"
             ],
             [
              0.7777777777777778,
              "#fb9f3a"
             ],
             [
              0.8888888888888888,
              "#fdca26"
             ],
             [
              1,
              "#f0f921"
             ]
            ],
            "type": "histogram2d"
           }
          ],
          "histogram2dcontour": [
           {
            "colorbar": {
             "outlinewidth": 0,
             "ticks": ""
            },
            "colorscale": [
             [
              0,
              "#0d0887"
             ],
             [
              0.1111111111111111,
              "#46039f"
             ],
             [
              0.2222222222222222,
              "#7201a8"
             ],
             [
              0.3333333333333333,
              "#9c179e"
             ],
             [
              0.4444444444444444,
              "#bd3786"
             ],
             [
              0.5555555555555556,
              "#d8576b"
             ],
             [
              0.6666666666666666,
              "#ed7953"
             ],
             [
              0.7777777777777778,
              "#fb9f3a"
             ],
             [
              0.8888888888888888,
              "#fdca26"
             ],
             [
              1,
              "#f0f921"
             ]
            ],
            "type": "histogram2dcontour"
           }
          ],
          "mesh3d": [
           {
            "colorbar": {
             "outlinewidth": 0,
             "ticks": ""
            },
            "type": "mesh3d"
           }
          ],
          "parcoords": [
           {
            "line": {
             "colorbar": {
              "outlinewidth": 0,
              "ticks": ""
             }
            },
            "type": "parcoords"
           }
          ],
          "pie": [
           {
            "automargin": true,
            "type": "pie"
           }
          ],
          "scatter": [
           {
            "fillpattern": {
             "fillmode": "overlay",
             "size": 10,
             "solidity": 0.2
            },
            "type": "scatter"
           }
          ],
          "scatter3d": [
           {
            "line": {
             "colorbar": {
              "outlinewidth": 0,
              "ticks": ""
             }
            },
            "marker": {
             "colorbar": {
              "outlinewidth": 0,
              "ticks": ""
             }
            },
            "type": "scatter3d"
           }
          ],
          "scattercarpet": [
           {
            "marker": {
             "colorbar": {
              "outlinewidth": 0,
              "ticks": ""
             }
            },
            "type": "scattercarpet"
           }
          ],
          "scattergeo": [
           {
            "marker": {
             "colorbar": {
              "outlinewidth": 0,
              "ticks": ""
             }
            },
            "type": "scattergeo"
           }
          ],
          "scattergl": [
           {
            "marker": {
             "colorbar": {
              "outlinewidth": 0,
              "ticks": ""
             }
            },
            "type": "scattergl"
           }
          ],
          "scattermapbox": [
           {
            "marker": {
             "colorbar": {
              "outlinewidth": 0,
              "ticks": ""
             }
            },
            "type": "scattermapbox"
           }
          ],
          "scatterpolar": [
           {
            "marker": {
             "colorbar": {
              "outlinewidth": 0,
              "ticks": ""
             }
            },
            "type": "scatterpolar"
           }
          ],
          "scatterpolargl": [
           {
            "marker": {
             "colorbar": {
              "outlinewidth": 0,
              "ticks": ""
             }
            },
            "type": "scatterpolargl"
           }
          ],
          "scatterternary": [
           {
            "marker": {
             "colorbar": {
              "outlinewidth": 0,
              "ticks": ""
             }
            },
            "type": "scatterternary"
           }
          ],
          "surface": [
           {
            "colorbar": {
             "outlinewidth": 0,
             "ticks": ""
            },
            "colorscale": [
             [
              0,
              "#0d0887"
             ],
             [
              0.1111111111111111,
              "#46039f"
             ],
             [
              0.2222222222222222,
              "#7201a8"
             ],
             [
              0.3333333333333333,
              "#9c179e"
             ],
             [
              0.4444444444444444,
              "#bd3786"
             ],
             [
              0.5555555555555556,
              "#d8576b"
             ],
             [
              0.6666666666666666,
              "#ed7953"
             ],
             [
              0.7777777777777778,
              "#fb9f3a"
             ],
             [
              0.8888888888888888,
              "#fdca26"
             ],
             [
              1,
              "#f0f921"
             ]
            ],
            "type": "surface"
           }
          ],
          "table": [
           {
            "cells": {
             "fill": {
              "color": "#EBF0F8"
             },
             "line": {
              "color": "white"
             }
            },
            "header": {
             "fill": {
              "color": "#C8D4E3"
             },
             "line": {
              "color": "white"
             }
            },
            "type": "table"
           }
          ]
         },
         "layout": {
          "annotationdefaults": {
           "arrowcolor": "#2a3f5f",
           "arrowhead": 0,
           "arrowwidth": 1
          },
          "autotypenumbers": "strict",
          "coloraxis": {
           "colorbar": {
            "outlinewidth": 0,
            "ticks": ""
           }
          },
          "colorscale": {
           "diverging": [
            [
             0,
             "#8e0152"
            ],
            [
             0.1,
             "#c51b7d"
            ],
            [
             0.2,
             "#de77ae"
            ],
            [
             0.3,
             "#f1b6da"
            ],
            [
             0.4,
             "#fde0ef"
            ],
            [
             0.5,
             "#f7f7f7"
            ],
            [
             0.6,
             "#e6f5d0"
            ],
            [
             0.7,
             "#b8e186"
            ],
            [
             0.8,
             "#7fbc41"
            ],
            [
             0.9,
             "#4d9221"
            ],
            [
             1,
             "#276419"
            ]
           ],
           "sequential": [
            [
             0,
             "#0d0887"
            ],
            [
             0.1111111111111111,
             "#46039f"
            ],
            [
             0.2222222222222222,
             "#7201a8"
            ],
            [
             0.3333333333333333,
             "#9c179e"
            ],
            [
             0.4444444444444444,
             "#bd3786"
            ],
            [
             0.5555555555555556,
             "#d8576b"
            ],
            [
             0.6666666666666666,
             "#ed7953"
            ],
            [
             0.7777777777777778,
             "#fb9f3a"
            ],
            [
             0.8888888888888888,
             "#fdca26"
            ],
            [
             1,
             "#f0f921"
            ]
           ],
           "sequentialminus": [
            [
             0,
             "#0d0887"
            ],
            [
             0.1111111111111111,
             "#46039f"
            ],
            [
             0.2222222222222222,
             "#7201a8"
            ],
            [
             0.3333333333333333,
             "#9c179e"
            ],
            [
             0.4444444444444444,
             "#bd3786"
            ],
            [
             0.5555555555555556,
             "#d8576b"
            ],
            [
             0.6666666666666666,
             "#ed7953"
            ],
            [
             0.7777777777777778,
             "#fb9f3a"
            ],
            [
             0.8888888888888888,
             "#fdca26"
            ],
            [
             1,
             "#f0f921"
            ]
           ]
          },
          "colorway": [
           "#636efa",
           "#EF553B",
           "#00cc96",
           "#ab63fa",
           "#FFA15A",
           "#19d3f3",
           "#FF6692",
           "#B6E880",
           "#FF97FF",
           "#FECB52"
          ],
          "font": {
           "color": "#2a3f5f"
          },
          "geo": {
           "bgcolor": "white",
           "lakecolor": "white",
           "landcolor": "#E5ECF6",
           "showlakes": true,
           "showland": true,
           "subunitcolor": "white"
          },
          "hoverlabel": {
           "align": "left"
          },
          "hovermode": "closest",
          "mapbox": {
           "style": "light"
          },
          "paper_bgcolor": "white",
          "plot_bgcolor": "#E5ECF6",
          "polar": {
           "angularaxis": {
            "gridcolor": "white",
            "linecolor": "white",
            "ticks": ""
           },
           "bgcolor": "#E5ECF6",
           "radialaxis": {
            "gridcolor": "white",
            "linecolor": "white",
            "ticks": ""
           }
          },
          "scene": {
           "xaxis": {
            "backgroundcolor": "#E5ECF6",
            "gridcolor": "white",
            "gridwidth": 2,
            "linecolor": "white",
            "showbackground": true,
            "ticks": "",
            "zerolinecolor": "white"
           },
           "yaxis": {
            "backgroundcolor": "#E5ECF6",
            "gridcolor": "white",
            "gridwidth": 2,
            "linecolor": "white",
            "showbackground": true,
            "ticks": "",
            "zerolinecolor": "white"
           },
           "zaxis": {
            "backgroundcolor": "#E5ECF6",
            "gridcolor": "white",
            "gridwidth": 2,
            "linecolor": "white",
            "showbackground": true,
            "ticks": "",
            "zerolinecolor": "white"
           }
          },
          "shapedefaults": {
           "line": {
            "color": "#2a3f5f"
           }
          },
          "ternary": {
           "aaxis": {
            "gridcolor": "white",
            "linecolor": "white",
            "ticks": ""
           },
           "baxis": {
            "gridcolor": "white",
            "linecolor": "white",
            "ticks": ""
           },
           "bgcolor": "#E5ECF6",
           "caxis": {
            "gridcolor": "white",
            "linecolor": "white",
            "ticks": ""
           }
          },
          "title": {
           "x": 0.05
          },
          "xaxis": {
           "automargin": true,
           "gridcolor": "white",
           "linecolor": "white",
           "ticks": "",
           "title": {
            "standoff": 15
           },
           "zerolinecolor": "white",
           "zerolinewidth": 2
          },
          "yaxis": {
           "automargin": true,
           "gridcolor": "white",
           "linecolor": "white",
           "ticks": "",
           "title": {
            "standoff": 15
           },
           "zerolinecolor": "white",
           "zerolinewidth": 2
          }
         }
        },
        "title": {
         "text": "Military installations with PFAS exceedances in drinking water of EPA proposed standard of 4 ppt, 2017"
        }
       }
      },
      "text/html": [
       "<div>                            <div id=\"fb5a0d95-008f-4dc4-b7a3-11bebdf13b7d\" class=\"plotly-graph-div\" style=\"height:525px; width:100%;\"></div>            <script type=\"text/javascript\">                require([\"plotly\"], function(Plotly) {                    window.PLOTLYENV=window.PLOTLYENV || {};                                    if (document.getElementById(\"fb5a0d95-008f-4dc4-b7a3-11bebdf13b7d\")) {                    Plotly.newPlot(                        \"fb5a0d95-008f-4dc4-b7a3-11bebdf13b7d\",                        [{\"geo\":\"geo\",\"hovertemplate\":\"<b>%{hovertext}</b><br><br>results=%{marker.size}<br>latitude=%{lat}<br>longitude=%{lon}<extra></extra>\",\"hovertext\":[\"81ST RSC: E. EARLE RIVES AFRC\",\"AGANA\",\"BARNES MUNICIPAL\",\"BARROW AK NARL\",\"BELMONT ARMORY\",\"BIDDLE ANGB FORMERLY HORSHAM/WILLOW GROVE ANG\",\"CAMP CARROLL\",\"CAMP WALKER\",\"DOVER AFB\",\"EIELSON AFB\",\"EL CAMPO\",\"ELLSWORTH AFB\",\"EWVRA SHEPHERD FIELD\",\"FAIRCHILD AFB\",\"FORT HUNTER LIGGETT\",\"FRANCIS S. GABRESKI\",\"FT. LEAVENWORTH\",\"HARRISBURG INTERNATIONAL AIRPORT\",\"JB LEWIS-MCCHORD: FORT LEWIS CANTONMENT\",\"JOINT BASE MCGUIRE-DIX-LAKEHURST\",\"KI SAWYER AFB\",\"KUNSAN AB\",\"MARCH AFB\",\"MATHER AFB\",\"MCB CAMP PENDLETON SOUTH\",\"MCLB BARSTOW\",\"MOUNTAIN HOME AFB\",\"MTC-H CAMP GRAYLING AIRFIELD INSTALLATION-WIDE PAI\",\"NEW BOSTON AIR FORCE STATION\",\"NEW CASTLE ANGB 166TH\",\"NMC DET EARLE\",\"NSF DIEGO GARCIA\",\"OCEANA VA NAS\",\"OTIS ANG JOINT BASE CAPE COD -MASSACHUSETTS MILITARY RESERVATION\",\"PEASE AFB\",\"PETERSON SPACE FORCE BASE\",\"PLATTSBURGH AFB\",\"PRESIDIO OF MONTEREY\",\"SEAL BEACH CA WPNSUPFAC\",\"SOTO CANO\",\"STEWART INTERNATIONAL AIRPORT\",\"USAG BENELUX - CASERNE DAUMERIE, BE\",\"USAG RED CLOUD, KR: CAMP RED CLOUD\",\"USAG RED CLOUD, KR: CAMP STANLEY\",\"WARMINSTER NAWC AD\",\"WHIDBEY IS WA NAS\",\"WHITING FLD FL NAS\",\"WILLOW GROVE NASJRB\",\"WILMINGTON ARMORY\",\"WRIGHT-PATTERSON AFB\",\"WURTSMITH AFB\"],\"lat\":[null,13.473339,42.168377,71.321729,35.245984,40.208241,35.996,35.8374,39.132289,64.665556,29.173393,44.14,39.404864,47.615002,35.955407,40.836874,39.36417,40.19122,47.054474,40.041267,46.342318,35.937932,33.898203,38.563659,33.361871,34.859366,43.05,44.630811,42.976111,39.685975,40.261405,null,36.815192,41.658201,43.080259,38.820337,44.683551,36.603254,33.750466,14.3825,41.501428,null,null,37.7208,40.204319,48.338638,30.712805,40.198518,39.571223,39.823069,44.45243],\"legendgroup\":\"\",\"lon\":[null,144.824168,-72.717661,-156.647955,-81.019782,-75.148506,128.416,128.589648,-75.486514,-147.101389,-96.25306,-103.07,-77.985639,-117.658058,-121.25377,-72.643138,-94.918251,-76.747018,-122.552701,-74.584368,-87.38786,126.624755,-117.263728,-121.297211,-117.423732,-116.944444,-115.87,-84.777406,-71.694444,-75.598668,-74.147634,null,-76.031174,-70.521583,-70.821129,-104.696366,-73.447904,-121.912102,-118.064189,-87.621111,-74.084417,null,null,127.0967,-75.067753,-122.661501,-87.019983,-75.145664,-75.58383,-84.049489,-83.380475],\"marker\":{\"color\":\"red\",\"size\":[90.0,410.0,160.0,262.0,96.8,1870.0,1066.0,789.0,91.0,2222.0,79.0,182.0,79.0,5700.0,120.0,530.0,649.0,103.0,250.0,1688.0,3651.0,85.0,168.0,193.0,77.0,103.0,105.0,188.0,83.0,1800.0,228.0,5849.0,4900.0,488.0,2500.0,7910.0,412.0,260.0,135.0,82.9,170.0,94.0,466.0,1061.0,1800.0,3823.0,259.0,8100.0,1800.0,235.0,2923.0],\"sizemode\":\"area\",\"sizeref\":20.25,\"symbol\":\"circle\"},\"mode\":\"markers\",\"name\":\"\",\"showlegend\":false,\"type\":\"scattergeo\"}],                        {\"template\":{\"data\":{\"histogram2dcontour\":[{\"type\":\"histogram2dcontour\",\"colorbar\":{\"outlinewidth\":0,\"ticks\":\"\"},\"colorscale\":[[0.0,\"#0d0887\"],[0.1111111111111111,\"#46039f\"],[0.2222222222222222,\"#7201a8\"],[0.3333333333333333,\"#9c179e\"],[0.4444444444444444,\"#bd3786\"],[0.5555555555555556,\"#d8576b\"],[0.6666666666666666,\"#ed7953\"],[0.7777777777777778,\"#fb9f3a\"],[0.8888888888888888,\"#fdca26\"],[1.0,\"#f0f921\"]]}],\"choropleth\":[{\"type\":\"choropleth\",\"colorbar\":{\"outlinewidth\":0,\"ticks\":\"\"}}],\"histogram2d\":[{\"type\":\"histogram2d\",\"colorbar\":{\"outlinewidth\":0,\"ticks\":\"\"},\"colorscale\":[[0.0,\"#0d0887\"],[0.1111111111111111,\"#46039f\"],[0.2222222222222222,\"#7201a8\"],[0.3333333333333333,\"#9c179e\"],[0.4444444444444444,\"#bd3786\"],[0.5555555555555556,\"#d8576b\"],[0.6666666666666666,\"#ed7953\"],[0.7777777777777778,\"#fb9f3a\"],[0.8888888888888888,\"#fdca26\"],[1.0,\"#f0f921\"]]}],\"heatmap\":[{\"type\":\"heatmap\",\"colorbar\":{\"outlinewidth\":0,\"ticks\":\"\"},\"colorscale\":[[0.0,\"#0d0887\"],[0.1111111111111111,\"#46039f\"],[0.2222222222222222,\"#7201a8\"],[0.3333333333333333,\"#9c179e\"],[0.4444444444444444,\"#bd3786\"],[0.5555555555555556,\"#d8576b\"],[0.6666666666666666,\"#ed7953\"],[0.7777777777777778,\"#fb9f3a\"],[0.8888888888888888,\"#fdca26\"],[1.0,\"#f0f921\"]]}],\"heatmapgl\":[{\"type\":\"heatmapgl\",\"colorbar\":{\"outlinewidth\":0,\"ticks\":\"\"},\"colorscale\":[[0.0,\"#0d0887\"],[0.1111111111111111,\"#46039f\"],[0.2222222222222222,\"#7201a8\"],[0.3333333333333333,\"#9c179e\"],[0.4444444444444444,\"#bd3786\"],[0.5555555555555556,\"#d8576b\"],[0.6666666666666666,\"#ed7953\"],[0.7777777777777778,\"#fb9f3a\"],[0.8888888888888888,\"#fdca26\"],[1.0,\"#f0f921\"]]}],\"contourcarpet\":[{\"type\":\"contourcarpet\",\"colorbar\":{\"outlinewidth\":0,\"ticks\":\"\"}}],\"contour\":[{\"type\":\"contour\",\"colorbar\":{\"outlinewidth\":0,\"ticks\":\"\"},\"colorscale\":[[0.0,\"#0d0887\"],[0.1111111111111111,\"#46039f\"],[0.2222222222222222,\"#7201a8\"],[0.3333333333333333,\"#9c179e\"],[0.4444444444444444,\"#bd3786\"],[0.5555555555555556,\"#d8576b\"],[0.6666666666666666,\"#ed7953\"],[0.7777777777777778,\"#fb9f3a\"],[0.8888888888888888,\"#fdca26\"],[1.0,\"#f0f921\"]]}],\"surface\":[{\"type\":\"surface\",\"colorbar\":{\"outlinewidth\":0,\"ticks\":\"\"},\"colorscale\":[[0.0,\"#0d0887\"],[0.1111111111111111,\"#46039f\"],[0.2222222222222222,\"#7201a8\"],[0.3333333333333333,\"#9c179e\"],[0.4444444444444444,\"#bd3786\"],[0.5555555555555556,\"#d8576b\"],[0.6666666666666666,\"#ed7953\"],[0.7777777777777778,\"#fb9f3a\"],[0.8888888888888888,\"#fdca26\"],[1.0,\"#f0f921\"]]}],\"mesh3d\":[{\"type\":\"mesh3d\",\"colorbar\":{\"outlinewidth\":0,\"ticks\":\"\"}}],\"scatter\":[{\"fillpattern\":{\"fillmode\":\"overlay\",\"size\":10,\"solidity\":0.2},\"type\":\"scatter\"}],\"parcoords\":[{\"type\":\"parcoords\",\"line\":{\"colorbar\":{\"outlinewidth\":0,\"ticks\":\"\"}}}],\"scatterpolargl\":[{\"type\":\"scatterpolargl\",\"marker\":{\"colorbar\":{\"outlinewidth\":0,\"ticks\":\"\"}}}],\"bar\":[{\"error_x\":{\"color\":\"#2a3f5f\"},\"error_y\":{\"color\":\"#2a3f5f\"},\"marker\":{\"line\":{\"color\":\"#E5ECF6\",\"width\":0.5},\"pattern\":{\"fillmode\":\"overlay\",\"size\":10,\"solidity\":0.2}},\"type\":\"bar\"}],\"scattergeo\":[{\"type\":\"scattergeo\",\"marker\":{\"colorbar\":{\"outlinewidth\":0,\"ticks\":\"\"}}}],\"scatterpolar\":[{\"type\":\"scatterpolar\",\"marker\":{\"colorbar\":{\"outlinewidth\":0,\"ticks\":\"\"}}}],\"histogram\":[{\"marker\":{\"pattern\":{\"fillmode\":\"overlay\",\"size\":10,\"solidity\":0.2}},\"type\":\"histogram\"}],\"scattergl\":[{\"type\":\"scattergl\",\"marker\":{\"colorbar\":{\"outlinewidth\":0,\"ticks\":\"\"}}}],\"scatter3d\":[{\"type\":\"scatter3d\",\"line\":{\"colorbar\":{\"outlinewidth\":0,\"ticks\":\"\"}},\"marker\":{\"colorbar\":{\"outlinewidth\":0,\"ticks\":\"\"}}}],\"scattermapbox\":[{\"type\":\"scattermapbox\",\"marker\":{\"colorbar\":{\"outlinewidth\":0,\"ticks\":\"\"}}}],\"scatterternary\":[{\"type\":\"scatterternary\",\"marker\":{\"colorbar\":{\"outlinewidth\":0,\"ticks\":\"\"}}}],\"scattercarpet\":[{\"type\":\"scattercarpet\",\"marker\":{\"colorbar\":{\"outlinewidth\":0,\"ticks\":\"\"}}}],\"carpet\":[{\"aaxis\":{\"endlinecolor\":\"#2a3f5f\",\"gridcolor\":\"white\",\"linecolor\":\"white\",\"minorgridcolor\":\"white\",\"startlinecolor\":\"#2a3f5f\"},\"baxis\":{\"endlinecolor\":\"#2a3f5f\",\"gridcolor\":\"white\",\"linecolor\":\"white\",\"minorgridcolor\":\"white\",\"startlinecolor\":\"#2a3f5f\"},\"type\":\"carpet\"}],\"table\":[{\"cells\":{\"fill\":{\"color\":\"#EBF0F8\"},\"line\":{\"color\":\"white\"}},\"header\":{\"fill\":{\"color\":\"#C8D4E3\"},\"line\":{\"color\":\"white\"}},\"type\":\"table\"}],\"barpolar\":[{\"marker\":{\"line\":{\"color\":\"#E5ECF6\",\"width\":0.5},\"pattern\":{\"fillmode\":\"overlay\",\"size\":10,\"solidity\":0.2}},\"type\":\"barpolar\"}],\"pie\":[{\"automargin\":true,\"type\":\"pie\"}]},\"layout\":{\"autotypenumbers\":\"strict\",\"colorway\":[\"#636efa\",\"#EF553B\",\"#00cc96\",\"#ab63fa\",\"#FFA15A\",\"#19d3f3\",\"#FF6692\",\"#B6E880\",\"#FF97FF\",\"#FECB52\"],\"font\":{\"color\":\"#2a3f5f\"},\"hovermode\":\"closest\",\"hoverlabel\":{\"align\":\"left\"},\"paper_bgcolor\":\"white\",\"plot_bgcolor\":\"#E5ECF6\",\"polar\":{\"bgcolor\":\"#E5ECF6\",\"angularaxis\":{\"gridcolor\":\"white\",\"linecolor\":\"white\",\"ticks\":\"\"},\"radialaxis\":{\"gridcolor\":\"white\",\"linecolor\":\"white\",\"ticks\":\"\"}},\"ternary\":{\"bgcolor\":\"#E5ECF6\",\"aaxis\":{\"gridcolor\":\"white\",\"linecolor\":\"white\",\"ticks\":\"\"},\"baxis\":{\"gridcolor\":\"white\",\"linecolor\":\"white\",\"ticks\":\"\"},\"caxis\":{\"gridcolor\":\"white\",\"linecolor\":\"white\",\"ticks\":\"\"}},\"coloraxis\":{\"colorbar\":{\"outlinewidth\":0,\"ticks\":\"\"}},\"colorscale\":{\"sequential\":[[0.0,\"#0d0887\"],[0.1111111111111111,\"#46039f\"],[0.2222222222222222,\"#7201a8\"],[0.3333333333333333,\"#9c179e\"],[0.4444444444444444,\"#bd3786\"],[0.5555555555555556,\"#d8576b\"],[0.6666666666666666,\"#ed7953\"],[0.7777777777777778,\"#fb9f3a\"],[0.8888888888888888,\"#fdca26\"],[1.0,\"#f0f921\"]],\"sequentialminus\":[[0.0,\"#0d0887\"],[0.1111111111111111,\"#46039f\"],[0.2222222222222222,\"#7201a8\"],[0.3333333333333333,\"#9c179e\"],[0.4444444444444444,\"#bd3786\"],[0.5555555555555556,\"#d8576b\"],[0.6666666666666666,\"#ed7953\"],[0.7777777777777778,\"#fb9f3a\"],[0.8888888888888888,\"#fdca26\"],[1.0,\"#f0f921\"]],\"diverging\":[[0,\"#8e0152\"],[0.1,\"#c51b7d\"],[0.2,\"#de77ae\"],[0.3,\"#f1b6da\"],[0.4,\"#fde0ef\"],[0.5,\"#f7f7f7\"],[0.6,\"#e6f5d0\"],[0.7,\"#b8e186\"],[0.8,\"#7fbc41\"],[0.9,\"#4d9221\"],[1,\"#276419\"]]},\"xaxis\":{\"gridcolor\":\"white\",\"linecolor\":\"white\",\"ticks\":\"\",\"title\":{\"standoff\":15},\"zerolinecolor\":\"white\",\"automargin\":true,\"zerolinewidth\":2},\"yaxis\":{\"gridcolor\":\"white\",\"linecolor\":\"white\",\"ticks\":\"\",\"title\":{\"standoff\":15},\"zerolinecolor\":\"white\",\"automargin\":true,\"zerolinewidth\":2},\"scene\":{\"xaxis\":{\"backgroundcolor\":\"#E5ECF6\",\"gridcolor\":\"white\",\"linecolor\":\"white\",\"showbackground\":true,\"ticks\":\"\",\"zerolinecolor\":\"white\",\"gridwidth\":2},\"yaxis\":{\"backgroundcolor\":\"#E5ECF6\",\"gridcolor\":\"white\",\"linecolor\":\"white\",\"showbackground\":true,\"ticks\":\"\",\"zerolinecolor\":\"white\",\"gridwidth\":2},\"zaxis\":{\"backgroundcolor\":\"#E5ECF6\",\"gridcolor\":\"white\",\"linecolor\":\"white\",\"showbackground\":true,\"ticks\":\"\",\"zerolinecolor\":\"white\",\"gridwidth\":2}},\"shapedefaults\":{\"line\":{\"color\":\"#2a3f5f\"}},\"annotationdefaults\":{\"arrowcolor\":\"#2a3f5f\",\"arrowhead\":0,\"arrowwidth\":1},\"geo\":{\"bgcolor\":\"white\",\"landcolor\":\"#E5ECF6\",\"subunitcolor\":\"white\",\"showland\":true,\"showlakes\":true,\"lakecolor\":\"white\"},\"title\":{\"x\":0.05},\"mapbox\":{\"style\":\"light\"}}},\"geo\":{\"domain\":{\"x\":[0.0,1.0],\"y\":[0.0,1.0]},\"center\":{}},\"legend\":{\"tracegroupgap\":0,\"itemsizing\":\"constant\"},\"title\":{\"text\":\"Military installations with PFAS exceedances in drinking water of EPA proposed standard of 4 ppt, 2017\"}},                        {\"responsive\": true}                    ).then(function(){\n",
       "                            \n",
       "var gd = document.getElementById('fb5a0d95-008f-4dc4-b7a3-11bebdf13b7d');\n",
       "var x = new MutationObserver(function (mutations, observer) {{\n",
       "        var display = window.getComputedStyle(gd).display;\n",
       "        if (!display || display === 'none') {{\n",
       "            console.log([gd, 'removed!']);\n",
       "            Plotly.purge(gd);\n",
       "            observer.disconnect();\n",
       "        }}\n",
       "}});\n",
       "\n",
       "// Listen for the removal of the full notebook cells\n",
       "var notebookContainer = gd.closest('#notebook-container');\n",
       "if (notebookContainer) {{\n",
       "    x.observe(notebookContainer, {childList: true});\n",
       "}}\n",
       "\n",
       "// Listen for the clearing of the current output cell\n",
       "var outputEl = gd.closest('.output');\n",
       "if (outputEl) {{\n",
       "    x.observe(outputEl, {childList: true});\n",
       "}}\n",
       "\n",
       "                        })                };                });            </script>        </div>"
      ]
     },
     "metadata": {},
     "output_type": "display_data"
    }
   ],
   "source": [
    "#create map. See readme file for the image. \n",
    "fig = px.scatter_geo(df_2018_geo,\n",
    "    lon='longitude',\n",
    "    lat='latitude',\n",
    "    size='results',\n",
    "    color_discrete_sequence=[\"red\"],\n",
    "    hover_name=\"name\",\n",
    "    title = 'Military installations with PFAS exceedances in drinking water of EPA proposed standard of 4 ppt, 2017',\n",
    ")\n",
    "\n",
    "\n",
    "# fig.update_layout(\n",
    "#     geo_scope='usa',\n",
    "#   #  margin=dict(l=50, r=50, t=20, b=20)\n",
    "    \n",
    "# )\n",
    "\n",
    "fig"
   ]
  },
  {
   "cell_type": "code",
   "execution_count": null,
   "id": "be54e311",
   "metadata": {},
   "outputs": [],
   "source": []
  }
 ],
 "metadata": {
  "kernelspec": {
   "display_name": "Python 3 (ipykernel)",
   "language": "python",
   "name": "python3"
  },
  "language_info": {
   "codemirror_mode": {
    "name": "ipython",
    "version": 3
   },
   "file_extension": ".py",
   "mimetype": "text/x-python",
   "name": "python",
   "nbconvert_exporter": "python",
   "pygments_lexer": "ipython3",
   "version": "3.11.5"
  }
 },
 "nbformat": 4,
 "nbformat_minor": 5
}
